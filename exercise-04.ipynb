{
 "cells": [
  {
   "cell_type": "markdown",
   "metadata": {},
   "source": [
    "Name: Kamran Qureshi"
   ]
  },
  {
   "cell_type": "markdown",
   "metadata": {},
   "source": [
    "# Exercise 04 - Due Friday, October 21 at 12pm\n",
    "\n",
    "*Objectives*: Gain experience loading a CSV dataset into a database model you define yourself and using SQL to explore its contents. Explore the data by writing and executing a number of SQL queries using common syntax and functions and describing your findings.\n",
    "\n",
    "*Grading criteria*: The tasks should all be completed, and questions should all be answered with SQL queries in the space provided, unless a text answer is requested. Results should be correct, according to the embedded tests. The notebook itself should be completely reproducible; from start to finish, another person should be able to use the same code to obtain the same results as yours.  Note that you will receive no more than partial credit if you do not add text/markdown cells explaining your thinking at each major step in each problem.\n",
    "\n",
    "*Deadline*: Friday, October 21, 12pm. Submit your notebook to Blackboard and push it to your GitHub repository.\n",
    "\n",
    "## Setup - obtain data and create database\n",
    "\n",
    "The US City Open Data Census has data on [restaurant inspections from all over the country](http://us-city.census.okfn.org/dataset/food-safety).  Let's take a look at data from Albuquerque.  *Note*: metadata and other details for this dataset are available at http://data.cabq.gov/business/foodinspections/.\n",
    "\n",
    "Fyi, to save you a step, I've converted this file into a clean CSV file by using the `dos2unix` command to change its line endings and to switch it to use commas instead of tabs using `csvformat -t inputfile.csv > outputfile.csv`.\n",
    "\n",
    "First we download the dataset:"
   ]
  },
  {
   "cell_type": "code",
   "execution_count": 1,
   "metadata": {
    "collapsed": false
   },
   "outputs": [
    {
     "name": "stdout",
     "output_type": "stream",
     "text": [
      "--2016-10-24 06:49:43--  https://raw.githubusercontent.com/gwsb-istm-6212-fall-2016/syllabus-and-schedule/master/exercises/abq-food-inspections-fy2010.csv\n",
      "Resolving raw.githubusercontent.com (raw.githubusercontent.com)... 151.101.32.133\n",
      "Connecting to raw.githubusercontent.com (raw.githubusercontent.com)|151.101.32.133|:443... connected.\n",
      "HTTP request sent, awaiting response... 200 OK\n",
      "Length: 5025226 (4.8M) [text/plain]\n",
      "Saving to: ‘abq-food-inspections-fy2010.csv.1’\n",
      "\n",
      "abq-food-inspection 100%[=====================>]   4.79M  --.-KB/s   in 0.1s   \n",
      "\n",
      "2016-10-24 06:49:43 (41.3 MB/s) - ‘abq-food-inspections-fy2010.csv.1’ saved [5025226/5025226]\n",
      "\n"
     ]
    }
   ],
   "source": [
    "!wget https://raw.githubusercontent.com/gwsb-istm-6212-fall-2016/syllabus-and-schedule/master/exercises/abq-food-inspections-fy2010.csv"
   ]
  },
  {
   "cell_type": "markdown",
   "metadata": {},
   "source": [
    "## Problem 1 - examine the data (35 points)\n",
    "\n",
    "Use `csvstat` and other tools as you see fit and observe its contents.  Review the metadata definitions linked to above.  Describe what you see:  What do all the columns mean?  Are there null values?  Which columns interest you the most?  Which columns present some complications or questions you would like to ask?"
   ]
  },
  {
   "cell_type": "markdown",
   "metadata": {},
   "source": [
    "Insert a combination of code and text/markdown cells here to review the data and describe what you find."
   ]
  },
  {
   "cell_type": "markdown",
   "metadata": {},
   "source": [
    "### What do the columns mean ?"
   ]
  },
  {
   "cell_type": "markdown",
   "metadata": {},
   "source": [
    "\n",
    "\n",
    "FACILITY_NAME: Facility where the inspection occurred\n",
    "\n",
    "FACILITY_KEY: Unique code to identify each facility\n",
    "\n",
    "SITE_ADDRESS: Street address of the facility\n",
    "\n",
    "CITY: City where the facility is located\n",
    "\n",
    "STATE: State where the facility is located\n",
    "\n",
    "ZIP: Zip code of the facility \n",
    "\n",
    "OWNER_KEY: A unique code to identify the owner of the facility at the time of the inspection\n",
    "\n",
    "OWNER_NAME: Name of the owner of the facility at the time of the inspection\n",
    "\n",
    "NATURE_OF_BUSINESS: The type of business the facility is involved in\n",
    "\n",
    "STREET_NUMBER: Street number of the facility where the inspection occurred\n",
    "\n",
    "STREET_NAME: Street name of the facility where the inspection occurred\n",
    "\n",
    "STREET_TYPE: Street type of the facility where the inspection occurred\n",
    "\n",
    "POST_DIRECTIONAL: Postal direction of the facility where the inspection occurred\n",
    "\n",
    "PHONE: Phone number of the facility where the inspection occurred\n",
    "\n",
    "PROGRAM_CATEGORY: Id that indicates the type of facility permit the inspection was performed\n",
    "\n",
    "PROGRAM_CATEGORY_DES: Description of the id that indicates the type of facility\n",
    "\n",
    "CRIPTION: Permit the inspection was performed\n",
    "\n",
    "INSPECTION_DATE: Date the inspection occurred\n",
    "\n",
    "INSPECTION_TYPE: Code for type of inspection\n",
    "\n",
    "INSPECTION_DESC: Description of the inspection\n",
    "\n",
    "SERIAL_NUM: Unique ID to identify each inspection activity. If there are multiple rows with the same OWNER_ID and INSPECTION_DATE and SERIAL_NUM, it means that there were multiple rows created for one inspection (multiple results were recorded). If there are multiple rows with the same OWNER_ID and INSPECTION_DATE and a different SERIAL_NUM, it means that there were multiple inspections taken on the same day\n",
    "\n",
    "ACTION_CODE: Code of action taken. 00 indicates that the inspector was unable to perform the inspection. The result code documents the situation\n",
    "\n",
    "ACTION_DESC: Description of the action taken\n",
    "\n",
    "RESULT_CODE: Code of the result of the inspection\n",
    "\n",
    "RESULT_DESC: Description of the result of the inspection\n",
    "\n",
    "VIOLATION_CODE: The code for the violation\n",
    "\n",
    "VIOLATION_DESC: Description of the violation that was found\n",
    "\n",
    "INSPECTION_MEMO: Notes of the inspection made by the inspector\n"
   ]
  },
  {
   "cell_type": "markdown",
   "metadata": {},
   "source": [
    "### Are there null values?"
   ]
  },
  {
   "cell_type": "code",
   "execution_count": 2,
   "metadata": {
    "collapsed": false
   },
   "outputs": [
    {
     "name": "stdout",
     "output_type": "stream",
     "text": [
      "  1. FACILITY_NAME\n",
      "\t<class 'str'>\n",
      "\tNulls: False\n",
      "\tUnique values: 2615\n",
      "\t5 most frequent values:\n",
      "\t\tSMITHS FOOD AND DRUG CENTERS INC:\t154\n",
      "\t\tISOTOPES PARK - OVATIONS:\t93\n",
      "\t\tPER EHSII CECELIA GARCIA OOB LA REYNA DEL SUR:\t85\n",
      "\t\tECHO INC:\t68\n",
      "\t\tISLETA AMPHITHEATER:\t68\n",
      "\tMax length: 77\n",
      "  2. FACILITY_KEY\n",
      "\t<class 'int'>\n",
      "\tNulls: False\n",
      "\tMin: 13\n",
      "\tMax: 101482\n",
      "\tSum: 820405773\n",
      "\tMean: 46730.79135338346\n",
      "\tMedian: 50866.0\n",
      "\tStandard Deviation: 32659.794578837962\n",
      "\tUnique values: 2835\n",
      "\t5 most frequent values:\n",
      "\t\t46323:\t93\n",
      "\t\t65863:\t85\n",
      "\t\t32817:\t68\n",
      "\t\t80949:\t68\n",
      "\t\t91825:\t66\n",
      "  3. SITE_ADDRESS\n",
      "\t<class 'str'>\n",
      "\tNulls: True\n",
      "\tUnique values: 2456\n",
      "\t5 most frequent values:\n",
      "\t\t1601 AVENIDA CESAR CHAVEZ SE:\t94\n",
      "\t\t644 OLD COORS BLVD SW:\t85\n",
      "\t\t8601 CENTRAL AV NE:\t77\n",
      "\t\t2200 SUNPORT BLVD SE:\t75\n",
      "\t\t5210 CENTRAL AV SE:\t73\n",
      "\tMax length: 35\n",
      "  4. CITY\n",
      "\t<class 'str'>\n",
      "\tNulls: False\n",
      "\tValues: ALBUQUERQUE\n",
      "  5. STATE\n",
      "\t<class 'str'>\n",
      "\tNulls: False\n",
      "\tValues: NM, 87\n",
      "  6. ZIP\n",
      "\t<class 'str'>\n",
      "\tNulls: False\n",
      "\tUnique values: 48\n",
      "\t5 most frequent values:\n",
      "\t\t87110:\t1996\n",
      "\t\t87108:\t1976\n",
      "\t\t87102:\t1601\n",
      "\t\t87106:\t1568\n",
      "\t\t87109:\t1552\n",
      "\tMax length: 10\n",
      "  7. OWNER_KEY\n",
      "\t<class 'int'>\n",
      "\tNulls: False\n",
      "\tMin: 11\n",
      "\tMax: 87302\n",
      "\tSum: 644760848\n",
      "\tMean: 36725.953975848715\n",
      "\tMedian: 33747.0\n",
      "\tStandard Deviation: 29428.207216739836\n",
      "\tUnique values: 1892\n",
      "\t5 most frequent values:\n",
      "\t\t1838:\t792\n",
      "\t\t3537:\t321\n",
      "\t\t1272:\t228\n",
      "\t\t36280:\t156\n",
      "\t\t80274:\t155\n",
      "  8. OWNER_NAME\n",
      "\t<class 'str'>\n",
      "\tNulls: False\n",
      "\tUnique values: 1852\n",
      "\t5 most frequent values:\n",
      "\t\tAPS:\t792\n",
      "\t\tSMITHS FOOD AND DRUG CENTERS INC:\t321\n",
      "\t\tCIRCLE K STORES INC:\t277\n",
      "\t\tALBERTSONS:\t228\n",
      "\t\tWAL MART STORES EAST  LP:\t156\n",
      "\tMax length: 82\n",
      "  9. NATURE_OF_BUSINESS\n",
      "\t<class 'str'>\n",
      "\tNulls: True\n",
      "\tUnique values: 594\n",
      "\t5 most frequent values:\n",
      "\t\tRESTAURANT:\t4994\n",
      "\t\tFOOD SERVICE:\t691\n",
      "\t\tGROCERY:\t618\n",
      "\t\tBAR/RESTAURANT:\t508\n",
      "\t\tAPS SCHOOL FOOD SERVICE:\t470\n",
      "\tMax length: 25\n",
      " 10. STREET_NUMBER\n",
      "\t<class 'str'>\n",
      "\tNulls: True\n",
      "\tUnique values: 1349\n",
      "\t5 most frequent values:\n",
      "\t\t6600:\t216\n",
      "\t\t10000:\t152\n",
      "\t\t300:\t143\n",
      "\t\t2200:\t127\n",
      "\t\t8100:\t125\n",
      "\tMax length: 7\n",
      " 11. STREET_NAME\n",
      "\t<class 'str'>\n",
      "\tNulls: True\n",
      "\tUnique values: 404\n",
      "\t5 most frequent values:\n",
      "\t\tCENTRAL:\t1898\n",
      "\t\tMENAUL:\t928\n",
      "\t\tCOORS:\t918\n",
      "\t\tMONTGOMERY:\t727\n",
      "\t\tSAN MATEO:\t707\n",
      "\tMax length: 24\n",
      " 12. STREET_TYPE\n",
      "\t<class 'str'>\n",
      "\tNulls: True\n",
      "\tUnique values: 13\n",
      "\t5 most frequent values:\n",
      "\t\tBLVD:\t7636\n",
      "\t\tAV:\t3005\n",
      "\t\tST:\t2065\n",
      "\t\tRD:\t1900\n",
      "\t\tDR:\t995\n",
      "\tMax length: 4\n",
      " 13. POST_DIRECTIONAL\n",
      "\t<class 'str'>\n",
      "\tNulls: True\n",
      "\tValues: NW, NE, SE, N, SW\n",
      " 14. PHONE\n",
      "\t<class 'int'>\n",
      "\tNulls: True\n",
      "\tMin: 2471094\n",
      "\tMax: 505345566137310\n",
      "\tSum: 2608539289633190\n",
      "\tMean: 161719732773.29138\n",
      "\tMedian: 5053454060.0\n",
      "\tStandard Deviation: 8895791545525.992\n",
      "\tUnique values: 2279\n",
      "\t5 most frequent values:\n",
      "\t\t9153321301:\t101\n",
      "\t\t3037929467:\t100\n",
      "\t\t5052224033:\t94\n",
      "\t\t3109680646:\t85\n",
      "\t\t5052426777:\t68\n",
      " 15. PROGRAM_CATEGORY\n",
      "\t<class 'str'>\n",
      "\tNulls: False\n",
      "\tUnique values: 25\n",
      "\t5 most frequent values:\n",
      "\t\t0406:\t7969\n",
      "\t\t0601:\t1159\n",
      "\t\t0607:\t894\n",
      "\t\t0606:\t865\n",
      "\t\t0501:\t832\n",
      "\tMax length: 4\n",
      " 16. PROGRAM_CATEGORY_DESCRIPTION\n",
      "\t<class 'str'>\n",
      "\tNulls: True\n",
      "\tUnique values: 24\n",
      "\t5 most frequent values:\n",
      "\t\tFood Service Establishment:\t7969\n",
      "\t\tRetail -Grocery:\t1159\n",
      "\t\tRetail - Self Service & Prepackage Foods:\t894\n",
      "\t\tRetail - Prepackage Only:\t865\n",
      "\t\tBar:\t832\n",
      "\tMax length: 40\n",
      " 17. INSPECTION_DATE\n",
      "\t<class 'datetime.date'>\n",
      "\tNulls: False\n",
      "\tMin: 2009-07-01\n",
      "\tMax: 2010-06-30\n",
      "\tUnique values: 258\n",
      "\t5 most frequent values:\n",
      "\t\t2009-12-16:\t184\n",
      "\t\t2009-09-10:\t159\n",
      "\t\t2009-09-25:\t148\n",
      "\t\t2009-11-04:\t133\n",
      "\t\t2009-10-01:\t131\n",
      " 18. INSPECTION_TYPE\n",
      "\t<class 'NoneType'>\n",
      "\tNulls: True\n",
      "\tValues: \n",
      " 19. INSPECTION_DESC\n",
      "\t<class 'str'>\n",
      "\tNulls: False\n",
      "\tUnique values: 15\n",
      "\t5 most frequent values:\n",
      "\t\tROUTINE FOOD INSPECTION:\t12439\n",
      "\t\tEMERGENCY RESPONSE:\t1987\n",
      "\t\tNew Business Inspection:\t1005\n",
      "\t\tPRE-OPENING FOOD INSPECTION:\t743\n",
      "\t\tADDITIONAL SERVICE PROVIDED:\t439\n",
      "\tMax length: 32\n",
      " 20. SERIAL_NUM\n",
      "\t<class 'str'>\n",
      "\tNulls: False\n",
      "\tUnique values: 9046\n",
      "\t5 most frequent values:\n",
      "\t\tDA0047720:\t61\n",
      "\t\tDA0045731:\t61\n",
      "\t\tDA0047290:\t61\n",
      "\t\tDA0059230:\t61\n",
      "\t\tDA0045676:\t61\n",
      "\tMax length: 9\n",
      " 21. ACTION_CODE\n",
      "\t<class 'str'>\n",
      "\tNulls: False\n",
      "\tUnique values: 8\n",
      "\t5 most frequent values:\n",
      "\t\t11:\t14080\n",
      "\t\t00:\t2800\n",
      "\t\t09:\t382\n",
      "\t\t06:\t264\n",
      "\t\t10:\t21\n",
      "\tMax length: 2\n",
      " 22. ACTION_DESC\n",
      "\t<class 'str'>\n",
      "\tNulls: False\n",
      "\tUnique values: 8\n",
      "\t5 most frequent values:\n",
      "\t\tAPPROVED:\t14080\n",
      "\t\tNON-GRADED:\t2800\n",
      "\t\tANNUAL STICKER ISSUED:\t382\n",
      "\t\tUNSATISFACTORY:\t264\n",
      "\t\tANNUAL STICKER NOT ISSUED:\t21\n",
      "\tMax length: 34\n",
      " 23. RESULT_CODE\n",
      "\t<class 'str'>\n",
      "\tNulls: False\n",
      "\tUnique values: 19\n",
      "\t5 most frequent values:\n",
      "\t\t03:\t14389\n",
      "\t\t00:\t2416\n",
      "\t\t05:\t214\n",
      "\t\t22:\t142\n",
      "\t\t18:\t104\n",
      "\tMax length: 2\n",
      " 24. RESULT_DESC\n",
      "\t<class 'str'>\n",
      "\tNulls: False\n",
      "\tUnique values: 19\n",
      "\t5 most frequent values:\n",
      "\t\tIN COMPLIANCE:\t14389\n",
      "\t\tNOT APPLICABLE:\t2416\n",
      "\t\tDOWNGRADE:\t214\n",
      "\t\tOUT OF BUSINESS:\t142\n",
      "\t\tTRAINING RECEIVED:\t104\n",
      "\tMax length: 37\n",
      " 25. VIOLATION_CODE\n",
      "\t<class 'str'>\n",
      "\tNulls: True\n",
      "\tUnique values: 128\n",
      "\t5 most frequent values:\n",
      "\t\t55:\t6348\n",
      "\t\t00:\t3429\n",
      "\t\t68:\t1658\n",
      "\t\t42:\t487\n",
      "\t\t35:\t441\n",
      "\tMax length: 10\n",
      " 26. VIOLATION_DESC\n",
      "\t<class 'str'>\n",
      "\tNulls: True\n",
      "\tUnique values: 70\n",
      "\t5 most frequent values:\n",
      "\t\tAdditional Comments:\t6353\n",
      "\t\tNo Violations Found:\t3434\n",
      "\t\tDelivered Informational Brochure:\t1657\n",
      "\t\tPlumbing: Improperly installed/maintained/supplied:\t492\n",
      "\t\tNon-Food contact surfaces:\t446\n",
      "\tMax length: 50\n",
      " 27. INSPECTION_MEMO\n",
      "\t<class 'NoneType'>\n",
      "\tNulls: True\n",
      "\tValues: \n",
      "\n",
      "Row count: 17556\n"
     ]
    }
   ],
   "source": [
    "!csvstat abq-food-inspections-fy2010.csv"
   ]
  },
  {
   "cell_type": "markdown",
   "metadata": {},
   "source": [
    "#### Null values:\n",
    "SITE_ADDRESS, NATURE_OF_BUSINESS, STREET_NUMBER, STREET_NAME, STREET_TYPE, POST_DIRECTIONAL, PHONE, PROGRAM_CATEGORY_DESCRIPTION, INSPECTION_TYPE, VIOLATION_CODE, VIOLATION_DESC and INSPECTION_MEMO have null values as they have Nulls: true"
   ]
  },
  {
   "cell_type": "code",
   "execution_count": 3,
   "metadata": {
    "collapsed": false
   },
   "outputs": [
    {
     "name": "stdout",
     "output_type": "stream",
     "text": [
      "|------------+--------------------------|\r\n",
      "|  OWNER_KEY | OWNER_NAME               |\r\n",
      "|------------+--------------------------|\r\n",
      "|  47341     | OOBSAY IT WITH CAKE      |\r\n",
      "|  47341     | OOBSAY IT WITH CAKE      |\r\n",
      "|  47341     | OOBSAY IT WITH CAKE      |\r\n",
      "|  47341     | OOBSAY IT WITH CAKE      |\r\n",
      "|  47341     | OOBSAY IT WITH CAKE      |\r\n",
      "|  29294     | 2000 VIETMAN RESTAURANT  |\r\n",
      "|  29294     | 2000 VIETMAN RESTAURANT  |\r\n",
      "|  29294     | 2000 VIETMAN RESTAURANT  |\r\n",
      "|  66644     | 328 CHINESE CUISINE      |\r\n",
      "|  66644     | 328 CHINESE CUISINE      |\r\n",
      "|  66644     | 328 CHINESE CUISINE      |\r\n",
      "|  66644     | 328 CHINESE CUISINE      |\r\n",
      "|  66644     | 328 CHINESE CUISINE      |\r\n",
      "|  82383     | 5 STAR ABQ INC           |\r\n",
      "|  82383     | 5 STAR ABQ INC           |\r\n",
      "|  82383     | 5 STAR ABQ INC           |\r\n",
      "|  6743      | 66 DINER                 |\r\n",
      "|  6743      | 66 DINER                 |\r\n",
      "|  6743      | 66 DINER                 |\r\n",
      "|  1838      | APS                      |\r\n",
      "|  1838      | APS                      |\r\n",
      "|  1838      | APS                      |\r\n",
      "|  1838      | APS                      |\r\n",
      "|  1838      | APS                      |\r\n",
      "|  19642     | SCS BEVERAGE INC         |\r\n",
      "|  19642     | SCS BEVERAGE INC         |\r\n",
      "|  19642     | SCS BEVERAGE INC         |\r\n",
      "|  19642     | SCS BEVERAGE INC         |\r\n",
      "|  19642     | SCS BEVERAGE INC         |\r\n",
      "|------------+--------------------------|\r\n"
     ]
    }
   ],
   "source": [
    "!head -30 abq-food-inspections-fy2010.csv | csvcut -c7,8 | csvlook"
   ]
  },
  {
   "cell_type": "code",
   "execution_count": 4,
   "metadata": {
    "collapsed": false
   },
   "outputs": [
    {
     "name": "stdout",
     "output_type": "stream",
     "text": [
      "|--------------------------------+-------------+-------+---------------+-------------+-------------+-------------------|\r\n",
      "|  SITE_ADDRESS                  | CITY        | STATE | STREET_NUMBER | STREET_NAME | STREET_TYPE | POST_DIRECTIONAL  |\r\n",
      "|--------------------------------+-------------+-------+---------------+-------------+-------------+-------------------|\r\n",
      "|  10200 GOLF COURSE RD NW STE B | ALBUQUERQUE | NM    | 10200         | GOLF COURSE | RD          | NW                |\r\n",
      "|  10200 GOLF COURSE RD NW STE B | ALBUQUERQUE | NM    | 10200         | GOLF COURSE | RD          | NW                |\r\n",
      "|  10200 GOLF COURSE RD NW STE B | ALBUQUERQUE | NM    | 10200         | GOLF COURSE | RD          | NW                |\r\n",
      "|  10200 GOLF COURSE RD NW STE B | ALBUQUERQUE | NM    | 10200         | GOLF COURSE | RD          | NW                |\r\n",
      "|  10200 GOLF COURSE RD NW STE B | ALBUQUERQUE | NM    | 10200         | GOLF COURSE | RD          | NW                |\r\n",
      "|  601 SAN MATEO BLVD SE         | ALBUQUERQUE | NM    | 601           | SAN MATEO   | BLVD        | SE                |\r\n",
      "|  601 SAN MATEO BLVD SE         | ALBUQUERQUE | NM    | 601           | SAN MATEO   | BLVD        | SE                |\r\n",
      "|  601 SAN MATEO BLVD SE         | ALBUQUERQUE | NM    | 601           | SAN MATEO   | BLVD        | SE                |\r\n",
      "|  5617 MENAUL BLVD NE STE A     | ALBUQUERQUE | NM    | 5617          | MENAUL      | BLVD        | NE                |\r\n",
      "|--------------------------------+-------------+-------+---------------+-------------+-------------+-------------------|\r\n"
     ]
    }
   ],
   "source": [
    "!head abq-food-inspections-fy2010.csv | csvcut -c3,4,5,10,11,12,13 | csvlook"
   ]
  },
  {
   "cell_type": "code",
   "execution_count": 5,
   "metadata": {
    "collapsed": false
   },
   "outputs": [
    {
     "name": "stdout",
     "output_type": "stream",
     "text": [
      "|-------------------+------------------------------------------+-------------+--------------|\r\n",
      "|  PROGRAM_CATEGORY | PROGRAM_CATEGORY_DESCRIPTION             | ACTION_CODE | ACTION_DESC  |\r\n",
      "|-------------------+------------------------------------------+-------------+--------------|\r\n",
      "|  0405             | Food Processor                           | 00          | NON-GRADED   |\r\n",
      "|  0405             | Food Processor                           | 11          | APPROVED     |\r\n",
      "|  0405             | Food Processor                           | 11          | APPROVED     |\r\n",
      "|  0405             | Food Processor                           | 11          | APPROVED     |\r\n",
      "|  0405             | Food Processor                           | 11          | APPROVED     |\r\n",
      "|  0406             | Food Service Establishment               | 11          | APPROVED     |\r\n",
      "|  0406             | Food Service Establishment               | 11          | APPROVED     |\r\n",
      "|  0406             | Food Service Establishment               | 11          | APPROVED     |\r\n",
      "|  0406             | Food Service Establishment               | 00          | NON-GRADED   |\r\n",
      "|  0406             | Food Service Establishment               | 11          | APPROVED     |\r\n",
      "|  0406             | Food Service Establishment               | 11          | APPROVED     |\r\n",
      "|  0406             | Food Service Establishment               | 11          | APPROVED     |\r\n",
      "|  0406             | Food Service Establishment               | 11          | APPROVED     |\r\n",
      "|  0406             | Food Service Establishment               | 11          | APPROVED     |\r\n",
      "|  0406             | Food Service Establishment               | 11          | APPROVED     |\r\n",
      "|  0406             | Food Service Establishment               | 11          | APPROVED     |\r\n",
      "|  0406             | Food Service Establishment               | 00          | NON-GRADED   |\r\n",
      "|  0406             | Food Service Establishment               | 11          | APPROVED     |\r\n",
      "|  0406             | Food Service Establishment               | 11          | APPROVED     |\r\n",
      "|  0408             | School                                   | 00          | NON-GRADED   |\r\n",
      "|  0408             | School                                   | 11          | APPROVED     |\r\n",
      "|  0408             | School                                   | 11          | APPROVED     |\r\n",
      "|  0408             | School                                   | 11          | APPROVED     |\r\n",
      "|  0408             | School                                   | 11          | APPROVED     |\r\n",
      "|  0607             | Retail - Self Service & Prepackage Foods | 11          | APPROVED     |\r\n",
      "|  0607             | Retail - Self Service & Prepackage Foods | 11          | APPROVED     |\r\n",
      "|  0607             | Retail - Self Service & Prepackage Foods | 11          | APPROVED     |\r\n",
      "|  0607             | Retail - Self Service & Prepackage Foods | 11          | APPROVED     |\r\n",
      "|  0607             | Retail - Self Service & Prepackage Foods | 11          | APPROVED     |\r\n",
      "|-------------------+------------------------------------------+-------------+--------------|\r\n"
     ]
    }
   ],
   "source": [
    "!head -30 abq-food-inspections-fy2010.csv | csvcut -c15,16,21,22 | csvlook"
   ]
  },
  {
   "cell_type": "code",
   "execution_count": 6,
   "metadata": {
    "collapsed": false
   },
   "outputs": [
    {
     "name": "stdout",
     "output_type": "stream",
     "text": [
      "|-----------------+-----------------------------------|\n",
      "|  VIOLATION_CODE | VIOLATION_DESC                    |\n",
      "|-----------------+-----------------------------------|\n",
      "|      68         | Delivered Informational Brochure  |\n",
      "|      00         | No Violations Found               |\n",
      "|      55         | Additional Comments               |\n",
      "|      00         | No Violations Found               |\n",
      "|      55         | Additional Comments               |\n",
      "|      34         | Food contact surfaces             |\n",
      "|      35         | Non-Food contact surfaces         |\n",
      "|      55         | Additional Comments               |\n",
      "|      68         | Delivered Informational Brochure  |\n",
      "|      00         | No Violations Found               |\n",
      "|      55         | Additional Comments               |\n",
      "|      00         | No Violations Found               |\n",
      "|      55         | Additional Comments               |\n",
      "|                 |                                   |\n",
      "|      00         | No Violations Found               |\n",
      "|      55         | Additional Comments               |\n",
      "|      68         | Delivered Informational Brochure  |\n",
      "|      00         | No Violations Found               |\n",
      "|      55         | Additional Comments               |\n",
      "|      68         | Delivered Informational Brochure  |\n",
      "|      00         | No Violations Found               |\n",
      "|      55         | Additional Comments               |\n",
      "|      00         | No Violations Found               |\n",
      "|      55         | Additional Comments               |\n",
      "|      02         | Hot Holding                       |\n",
      "|      55         | Additional Comments               |\n",
      "|      00         | No Violations Found               |\n",
      "|      55         | Additional Comments               |\n",
      "|      26         | Evidence of insects               |\n",
      "|-----------------+-----------------------------------|\n"
     ]
    }
   ],
   "source": [
    "!head -30 abq-food-inspections-fy2010.csv | csvcut -c25,26 | csvlook"
   ]
  },
  {
   "cell_type": "code",
   "execution_count": 7,
   "metadata": {
    "collapsed": false
   },
   "outputs": [
    {
     "name": "stdout",
     "output_type": "stream",
     "text": [
      "|-------------------|\r\n",
      "|  INSPECTION_TYPE  |\r\n",
      "|-------------------|\r\n",
      "|  |\r\n",
      "|  |\r\n",
      "|  |\r\n",
      "|  |\r\n",
      "|  |\r\n",
      "|  |\r\n",
      "|  |\r\n",
      "|  |\r\n",
      "|  |\r\n",
      "|  |\r\n",
      "|  |\r\n",
      "|  |\r\n",
      "|  |\r\n",
      "|  |\r\n",
      "|  |\r\n",
      "|  |\r\n",
      "|  |\r\n",
      "|  |\r\n",
      "|  |\r\n",
      "|-------------------|\r\n"
     ]
    }
   ],
   "source": [
    "!head -20 abq-food-inspections-fy2010.csv | csvcut -c18 | csvlook"
   ]
  },
  {
   "cell_type": "markdown",
   "metadata": {},
   "source": [
    "###  Which columns interest you the most? Which columns present some complications or questions you would like to ask?"
   ]
  },
  {
   "cell_type": "markdown",
   "metadata": {},
   "source": [
    "OWNER_KEY, STREET_NUMBER, STREET_NAME, STREET_TYPE, PROGRAM_CATEGORY, INSPECTION_TYPE, ACTION_CODE, RESULT_CODE AND VIOLATION_CODE interest me the most. The same columns are the ones for which I would like to raise some issues:\n",
    "\n",
    "The column INSPECTION_TYPE is blank which questions the existence of this column in the data.\n",
    "\n",
    "Address is already captured in one column, there is no need to have separate columns like STREET_NAME, STREET_TYPE etc.\n",
    "\n",
    "The other columns, shown above, have another column adjacent to them providing similar information resulting in redundancy. Having a foreign key pulling description and other information would have made more sense\n",
    "\n"
   ]
  },
  {
   "cell_type": "markdown",
   "metadata": {},
   "source": [
    "## Problem 2 - define a database model and load the data (35 points)\n",
    "\n",
    "Based on what you found above, create and connect to a new database, define a database table in it, and load this dataset into it.  You may use either of the methods for this step you have seen in earlier class notebooks.  You may choose to eliminate variables/columns if they are not relevant or interesting to you - explain your reasoning if you do.  Either way, you should load a majority of the columns present in the source dataset into the database and all of its rows.\n",
    "\n",
    "Once your data has loaded successfully, run a `COUNT(*)` query to verify that all the data has loaded correctly.\n",
    "\n",
    "Insert a combination of code and text/markdown cells here to connect to your database, define your table, load its data, and verify the loaded records."
   ]
  },
  {
   "cell_type": "code",
   "execution_count": 8,
   "metadata": {
    "collapsed": false
   },
   "outputs": [
    {
     "name": "stderr",
     "output_type": "stream",
     "text": [
      "/opt/conda/lib/python3.5/site-packages/IPython/config.py:13: ShimWarning: The `IPython.config` package has been deprecated. You should import from traitlets.config instead.\n",
      "  \"You should import from traitlets.config instead.\", ShimWarning)\n",
      "/opt/conda/lib/python3.5/site-packages/IPython/utils/traitlets.py:5: UserWarning: IPython.utils.traitlets has moved to a top-level traitlets package.\n",
      "  warn(\"IPython.utils.traitlets has moved to a top-level traitlets package.\")\n"
     ]
    }
   ],
   "source": [
    "%load_ext sql"
   ]
  },
  {
   "cell_type": "code",
   "execution_count": 9,
   "metadata": {
    "collapsed": false
   },
   "outputs": [
    {
     "name": "stdout",
     "output_type": "stream",
     "text": [
      "[sudo] password for jovyan: Restarting PostgreSQL 9.5 database server: main.\n"
     ]
    }
   ],
   "source": [
    "!echo 'redspot' | sudo -S service postgresql restart"
   ]
  },
  {
   "cell_type": "markdown",
   "metadata": {},
   "source": [
    "Creating database inspections and connecting to it"
   ]
  },
  {
   "cell_type": "code",
   "execution_count": 10,
   "metadata": {
    "collapsed": false
   },
   "outputs": [
    {
     "name": "stdout",
     "output_type": "stream",
     "text": [
      "createdb: database creation failed: ERROR:  database \"inspections\" already exists\r\n"
     ]
    }
   ],
   "source": [
    "!createdb -U dbuser inspections"
   ]
  },
  {
   "cell_type": "markdown",
   "metadata": {},
   "source": [
    "Dropping columns STREET_NUMBER, STREET_NAME, STREET_TYPE and INSPECTION_TYPE from the original data. Address information already exists in SITE_ADDRESS and INSPECTION_TYPE is black across all rows"
   ]
  },
  {
   "cell_type": "code",
   "execution_count": 11,
   "metadata": {
    "collapsed": false
   },
   "outputs": [],
   "source": [
    "!csvcut -c1,2,3,4,5,6,7,8,9,13,14,15,16,17,19,20,21,22,23,24,25,26,27 abq-food-inspections-fy2010.csv >inspec.csv"
   ]
  },
  {
   "cell_type": "code",
   "execution_count": 12,
   "metadata": {
    "collapsed": false
   },
   "outputs": [
    {
     "data": {
      "text/plain": [
       "'Connected: dbuser@inspections'"
      ]
     },
     "execution_count": 12,
     "metadata": {},
     "output_type": "execute_result"
    }
   ],
   "source": [
    "%sql postgresql://dbuser@localhost:5432/inspections"
   ]
  },
  {
   "cell_type": "code",
   "execution_count": 13,
   "metadata": {
    "collapsed": false
   },
   "outputs": [
    {
     "name": "stdout",
     "output_type": "stream",
     "text": [
      "Done.\n",
      "Done.\n"
     ]
    },
    {
     "data": {
      "text/plain": [
       "[]"
      ]
     },
     "execution_count": 13,
     "metadata": {},
     "output_type": "execute_result"
    }
   ],
   "source": [
    "%%sql\n",
    "DROP TABLE IF EXISTS inspection;\n",
    "CREATE TABLE inspection (\n",
    "    facility_name VARCHAR(100),\n",
    "    facility_key VARCHAR(6),\n",
    "    site_address VARCHAR(60),\n",
    "    city VARCHAR(20),\n",
    "    state CHAR(2),\n",
    "    zipcode VARCHAR(10),\n",
    "    owner_key CHAR(5),\n",
    "    owner_name VARCHAR(100),\n",
    "    nature_of_business VARCHAR(60),\n",
    "    post_directional CHAR(2),\n",
    "    phone VARCHAR(25),\n",
    "    program_category VARCHAR(4),\n",
    "    program_category_description VARCHAR(60),\n",
    "    inspection_date TIMESTAMP(0),\n",
    "    inspection_desc VARCHAR(64),\n",
    "    serial_num CHAR(9),\n",
    "    action_code VARCHAR(4),\n",
    "    action_desc VARCHAR(60),\n",
    "    result_code VARCHAR(4),\n",
    "    result_desc VARCHAR(64),\n",
    "    violation_code VARCHAR(20),\n",
    "    violation_desc VARCHAR(64),\n",
    "    inspection_memo VARCHAR(60)\n",
    ");\n",
    "\n",
    "\n"
   ]
  },
  {
   "cell_type": "code",
   "execution_count": 14,
   "metadata": {
    "collapsed": false
   },
   "outputs": [
    {
     "name": "stdout",
     "output_type": "stream",
     "text": [
      "/home/jovyan/work\r\n"
     ]
    }
   ],
   "source": [
    "!pwd"
   ]
  },
  {
   "cell_type": "code",
   "execution_count": 15,
   "metadata": {
    "collapsed": false
   },
   "outputs": [
    {
     "name": "stdout",
     "output_type": "stream",
     "text": [
      "17556 rows affected.\n"
     ]
    },
    {
     "data": {
      "text/plain": [
       "[]"
      ]
     },
     "execution_count": 15,
     "metadata": {},
     "output_type": "execute_result"
    }
   ],
   "source": [
    "%%sql\n",
    "COPY inspection \n",
    "FROM '/home/jovyan/work/inspec.csv'\n",
    "CSV\n",
    "HEADER\n",
    "QUOTE '\"'\n",
    "DELIMITER ',';"
   ]
  },
  {
   "cell_type": "code",
   "execution_count": 16,
   "metadata": {
    "collapsed": false
   },
   "outputs": [
    {
     "name": "stdout",
     "output_type": "stream",
     "text": [
      "1 rows affected.\n"
     ]
    },
    {
     "data": {
      "text/html": [
       "<table>\n",
       "    <tr>\n",
       "        <th>count</th>\n",
       "    </tr>\n",
       "    <tr>\n",
       "        <td>17556</td>\n",
       "    </tr>\n",
       "</table>"
      ],
      "text/plain": [
       "[(17556,)]"
      ]
     },
     "execution_count": 16,
     "metadata": {},
     "output_type": "execute_result"
    }
   ],
   "source": [
    "%%sql \n",
    "Select count(*)\n",
    "From inspection;"
   ]
  },
  {
   "cell_type": "markdown",
   "metadata": {},
   "source": [
    "## Problem 3 - explore your data (30 points)\n",
    "\n",
    "Now that the data is loaded, ask some questions of it!  Identify key variables of interest and note their ranges along with other useful descriptive statistics.  Choose and define a few lines of inquiry, execute queries for each, and describe what you find in your result sets.  Use any query techniques we've seen in class, including aggregate functions, transformations, subqueries, or others as appropriate. \n",
    "\n",
    "If you find interesting patterns, adding plots to your exploration would be useful.\n",
    "\n",
    "Insert a combination of code and text/markdown cells here to explore your data."
   ]
  },
  {
   "cell_type": "markdown",
   "metadata": {},
   "source": [
    "#### Which type of inspection is the most common ?"
   ]
  },
  {
   "cell_type": "code",
   "execution_count": 17,
   "metadata": {
    "collapsed": false
   },
   "outputs": [
    {
     "name": "stdout",
     "output_type": "stream",
     "text": [
      "10 rows affected.\n"
     ]
    },
    {
     "data": {
      "text/html": [
       "<table>\n",
       "    <tr>\n",
       "        <th>inspection_desc</th>\n",
       "        <th>count</th>\n",
       "    </tr>\n",
       "    <tr>\n",
       "        <td>ROUTINE FOOD INSPECTION</td>\n",
       "        <td>12439</td>\n",
       "    </tr>\n",
       "    <tr>\n",
       "        <td>EMERGENCY RESPONSE</td>\n",
       "        <td>1987</td>\n",
       "    </tr>\n",
       "    <tr>\n",
       "        <td>New Business Inspection</td>\n",
       "        <td>1005</td>\n",
       "    </tr>\n",
       "    <tr>\n",
       "        <td>PRE-OPENING FOOD INSPECTION</td>\n",
       "        <td>743</td>\n",
       "    </tr>\n",
       "    <tr>\n",
       "        <td>ADDITIONAL SERVICE PROVIDED</td>\n",
       "        <td>439</td>\n",
       "    </tr>\n",
       "    <tr>\n",
       "        <td>MOBILE UNIT FOOD INSPECTION</td>\n",
       "        <td>377</td>\n",
       "    </tr>\n",
       "    <tr>\n",
       "        <td>PHONE CALL</td>\n",
       "        <td>247</td>\n",
       "    </tr>\n",
       "    <tr>\n",
       "        <td>FOOD FOLLOW-UP INSPECTION</td>\n",
       "        <td>143</td>\n",
       "    </tr>\n",
       "    <tr>\n",
       "        <td>FOLLOW-UP DOCUMENTATION RECEIVED</td>\n",
       "        <td>75</td>\n",
       "    </tr>\n",
       "    <tr>\n",
       "        <td>MANAGERIAL ASSISTANCE</td>\n",
       "        <td>54</td>\n",
       "    </tr>\n",
       "</table>"
      ],
      "text/plain": [
       "[('ROUTINE FOOD INSPECTION', 12439),\n",
       " ('EMERGENCY RESPONSE', 1987),\n",
       " ('New Business Inspection', 1005),\n",
       " ('PRE-OPENING FOOD INSPECTION', 743),\n",
       " ('ADDITIONAL SERVICE PROVIDED', 439),\n",
       " ('MOBILE UNIT FOOD INSPECTION', 377),\n",
       " ('PHONE CALL', 247),\n",
       " ('FOOD FOLLOW-UP INSPECTION', 143),\n",
       " ('FOLLOW-UP DOCUMENTATION RECEIVED', 75),\n",
       " ('MANAGERIAL ASSISTANCE', 54)]"
      ]
     },
     "execution_count": 17,
     "metadata": {},
     "output_type": "execute_result"
    }
   ],
   "source": [
    "%%sql\n",
    "Select inspection_desc, count(*)\n",
    "From inspection\n",
    "Group By(inspection_desc)\n",
    "Order by count desc\n",
    "Limit 10;\n",
    "\n"
   ]
  },
  {
   "cell_type": "markdown",
   "metadata": {},
   "source": [
    "Food inspections are way higher than other type of inspections"
   ]
  },
  {
   "cell_type": "markdown",
   "metadata": {},
   "source": [
    "#### Which zip codes had the highest number of inspections?"
   ]
  },
  {
   "cell_type": "code",
   "execution_count": 18,
   "metadata": {
    "collapsed": false
   },
   "outputs": [
    {
     "name": "stdout",
     "output_type": "stream",
     "text": [
      "10 rows affected.\n"
     ]
    },
    {
     "data": {
      "text/html": [
       "<table>\n",
       "    <tr>\n",
       "        <th>zipcode</th>\n",
       "        <th>count</th>\n",
       "    </tr>\n",
       "    <tr>\n",
       "        <td>87110</td>\n",
       "        <td>1996</td>\n",
       "    </tr>\n",
       "    <tr>\n",
       "        <td>87108</td>\n",
       "        <td>1976</td>\n",
       "    </tr>\n",
       "    <tr>\n",
       "        <td>87102</td>\n",
       "        <td>1601</td>\n",
       "    </tr>\n",
       "    <tr>\n",
       "        <td>87106</td>\n",
       "        <td>1568</td>\n",
       "    </tr>\n",
       "    <tr>\n",
       "        <td>87109</td>\n",
       "        <td>1552</td>\n",
       "    </tr>\n",
       "    <tr>\n",
       "        <td>87107</td>\n",
       "        <td>1186</td>\n",
       "    </tr>\n",
       "    <tr>\n",
       "        <td>87112</td>\n",
       "        <td>1151</td>\n",
       "    </tr>\n",
       "    <tr>\n",
       "        <td>87114</td>\n",
       "        <td>1053</td>\n",
       "    </tr>\n",
       "    <tr>\n",
       "        <td>87123</td>\n",
       "        <td>1017</td>\n",
       "    </tr>\n",
       "    <tr>\n",
       "        <td>87111</td>\n",
       "        <td>1008</td>\n",
       "    </tr>\n",
       "</table>"
      ],
      "text/plain": [
       "[('87110', 1996),\n",
       " ('87108', 1976),\n",
       " ('87102', 1601),\n",
       " ('87106', 1568),\n",
       " ('87109', 1552),\n",
       " ('87107', 1186),\n",
       " ('87112', 1151),\n",
       " ('87114', 1053),\n",
       " ('87123', 1017),\n",
       " ('87111', 1008)]"
      ]
     },
     "execution_count": 18,
     "metadata": {},
     "output_type": "execute_result"
    }
   ],
   "source": [
    "%%sql\n",
    "Select zipcode, count(*)\n",
    "From inspection\n",
    "Group By(zipcode)\n",
    "Order by count desc\n",
    "Limit 10;"
   ]
  },
  {
   "cell_type": "markdown",
   "metadata": {},
   "source": [
    "Numbers don't look abnormal here. Some zip codes could have huge number of restaurants, explaining why there are more inspections in that zip code than others.\n",
    "\n",
    "Let's dive deep into routine food inspections"
   ]
  },
  {
   "cell_type": "markdown",
   "metadata": {},
   "source": [
    "#### What were the results of routine food inspections?"
   ]
  },
  {
   "cell_type": "code",
   "execution_count": 19,
   "metadata": {
    "collapsed": false
   },
   "outputs": [
    {
     "name": "stdout",
     "output_type": "stream",
     "text": [
      "8 rows affected.\n"
     ]
    },
    {
     "data": {
      "text/html": [
       "<table>\n",
       "    <tr>\n",
       "        <th>result_desc</th>\n",
       "        <th>count</th>\n",
       "    </tr>\n",
       "    <tr>\n",
       "        <td>IN COMPLIANCE</td>\n",
       "        <td>12245</td>\n",
       "    </tr>\n",
       "    <tr>\n",
       "        <td>DOWNGRADE</td>\n",
       "        <td>156</td>\n",
       "    </tr>\n",
       "    <tr>\n",
       "        <td>NOT APPLICABLE</td>\n",
       "        <td>21</td>\n",
       "    </tr>\n",
       "    <tr>\n",
       "        <td>IMMEDIATE CLOSURE</td>\n",
       "        <td>9</td>\n",
       "    </tr>\n",
       "    <tr>\n",
       "        <td>NOTICE</td>\n",
       "        <td>3</td>\n",
       "    </tr>\n",
       "    <tr>\n",
       "        <td>PERMIT SUSPENSION</td>\n",
       "        <td>2</td>\n",
       "    </tr>\n",
       "    <tr>\n",
       "        <td>NOT IN COMPLIANCE</td>\n",
       "        <td>2</td>\n",
       "    </tr>\n",
       "    <tr>\n",
       "        <td>VOLUNTARY CLOSURE</td>\n",
       "        <td>1</td>\n",
       "    </tr>\n",
       "</table>"
      ],
      "text/plain": [
       "[('IN COMPLIANCE', 12245),\n",
       " ('DOWNGRADE', 156),\n",
       " ('NOT APPLICABLE', 21),\n",
       " ('IMMEDIATE CLOSURE', 9),\n",
       " ('NOTICE', 3),\n",
       " ('PERMIT SUSPENSION', 2),\n",
       " ('NOT IN COMPLIANCE', 2),\n",
       " ('VOLUNTARY CLOSURE', 1)]"
      ]
     },
     "execution_count": 19,
     "metadata": {},
     "output_type": "execute_result"
    }
   ],
   "source": [
    "%%sql\n",
    "Select result_desc, count(*)\n",
    "From inspection\n",
    "where inspection_desc='ROUTINE FOOD INSPECTION'\n",
    "Group By(result_desc)\n",
    "Order by count desc\n",
    "Limit 10;"
   ]
  },
  {
   "cell_type": "markdown",
   "metadata": {},
   "source": [
    "Most inspections found the facilities to be in compliance with set standards"
   ]
  },
  {
   "cell_type": "markdown",
   "metadata": {},
   "source": [
    "#### What types of violations were most common?"
   ]
  },
  {
   "cell_type": "code",
   "execution_count": 20,
   "metadata": {
    "collapsed": false
   },
   "outputs": [
    {
     "name": "stdout",
     "output_type": "stream",
     "text": [
      "10 rows affected.\n"
     ]
    },
    {
     "data": {
      "text/html": [
       "<table>\n",
       "    <tr>\n",
       "        <th>violation_desc</th>\n",
       "        <th>count</th>\n",
       "    </tr>\n",
       "    <tr>\n",
       "        <td>Additional Comments</td>\n",
       "        <td>6353</td>\n",
       "    </tr>\n",
       "    <tr>\n",
       "        <td>No Violations Found</td>\n",
       "        <td>3434</td>\n",
       "    </tr>\n",
       "    <tr>\n",
       "        <td>Delivered Informational Brochure</td>\n",
       "        <td>1657</td>\n",
       "    </tr>\n",
       "    <tr>\n",
       "        <td>None</td>\n",
       "        <td>1009</td>\n",
       "    </tr>\n",
       "    <tr>\n",
       "        <td>Plumbing: Improperly installed/maintained/supplied</td>\n",
       "        <td>492</td>\n",
       "    </tr>\n",
       "    <tr>\n",
       "        <td>Non-Food contact surfaces</td>\n",
       "        <td>446</td>\n",
       "    </tr>\n",
       "    <tr>\n",
       "        <td>Improper sanitizing</td>\n",
       "        <td>434</td>\n",
       "    </tr>\n",
       "    <tr>\n",
       "        <td>Food unprotected</td>\n",
       "        <td>425</td>\n",
       "    </tr>\n",
       "    <tr>\n",
       "        <td>Floors, Walls, Ceilings</td>\n",
       "        <td>406</td>\n",
       "    </tr>\n",
       "    <tr>\n",
       "        <td>Food contact surfaces</td>\n",
       "        <td>251</td>\n",
       "    </tr>\n",
       "</table>"
      ],
      "text/plain": [
       "[('Additional Comments', 6353),\n",
       " ('No Violations Found', 3434),\n",
       " ('Delivered Informational Brochure', 1657),\n",
       " (None, 1009),\n",
       " ('Plumbing: Improperly installed/maintained/supplied', 492),\n",
       " ('Non-Food contact surfaces', 446),\n",
       " ('Improper sanitizing', 434),\n",
       " ('Food unprotected', 425),\n",
       " ('Floors, Walls, Ceilings', 406),\n",
       " ('Food contact surfaces', 251)]"
      ]
     },
     "execution_count": 20,
     "metadata": {},
     "output_type": "execute_result"
    }
   ],
   "source": [
    "%%sql\n",
    "Select violation_desc, count(*)\n",
    "From inspection\n",
    "Group By(violation_desc)\n",
    "Order by count desc\n",
    "Limit 10;"
   ]
  },
  {
   "cell_type": "code",
   "execution_count": 21,
   "metadata": {
    "collapsed": false
   },
   "outputs": [
    {
     "name": "stdout",
     "output_type": "stream",
     "text": [
      "10 rows affected.\n"
     ]
    },
    {
     "data": {
      "text/html": [
       "<table>\n",
       "    <tr>\n",
       "        <th>program_category_description</th>\n",
       "        <th>count</th>\n",
       "    </tr>\n",
       "    <tr>\n",
       "        <td>Food Service Establishment</td>\n",
       "        <td>2883</td>\n",
       "    </tr>\n",
       "    <tr>\n",
       "        <td>Retail - Self Service &amp; Prepackage Foods</td>\n",
       "        <td>406</td>\n",
       "    </tr>\n",
       "    <tr>\n",
       "        <td>Retail -Grocery</td>\n",
       "        <td>240</td>\n",
       "    </tr>\n",
       "    <tr>\n",
       "        <td>Childcare</td>\n",
       "        <td>185</td>\n",
       "    </tr>\n",
       "    <tr>\n",
       "        <td>Bar</td>\n",
       "        <td>169</td>\n",
       "    </tr>\n",
       "    <tr>\n",
       "        <td>Retail - Prepackage Only</td>\n",
       "        <td>158</td>\n",
       "    </tr>\n",
       "    <tr>\n",
       "        <td>School</td>\n",
       "        <td>133</td>\n",
       "    </tr>\n",
       "    <tr>\n",
       "        <td>Retail - Deli</td>\n",
       "        <td>114</td>\n",
       "    </tr>\n",
       "    <tr>\n",
       "        <td>Limited Menu</td>\n",
       "        <td>114</td>\n",
       "    </tr>\n",
       "    <tr>\n",
       "        <td>Bakery</td>\n",
       "        <td>107</td>\n",
       "    </tr>\n",
       "</table>"
      ],
      "text/plain": [
       "[('Food Service Establishment', 2883),\n",
       " ('Retail - Self Service & Prepackage Foods', 406),\n",
       " ('Retail -Grocery', 240),\n",
       " ('Childcare', 185),\n",
       " ('Bar', 169),\n",
       " ('Retail - Prepackage Only', 158),\n",
       " ('School', 133),\n",
       " ('Retail - Deli', 114),\n",
       " ('Limited Menu', 114),\n",
       " ('Bakery', 107)]"
      ]
     },
     "execution_count": 21,
     "metadata": {},
     "output_type": "execute_result"
    }
   ],
   "source": [
    "%%sql\n",
    "Select program_category_description, count(*)\n",
    "From inspection\n",
    "Where violation_desc not in ('No Violations Found', 'None', 'Additional Comments', 'Delivered Informational Brochure') \n",
    "Group By(program_category_description)\n",
    "Order by count desc\n",
    "Limit 10;"
   ]
  },
  {
   "cell_type": "markdown",
   "metadata": {},
   "source": [
    "Most number of violations were made by Food Service Establishments"
   ]
  },
  {
   "cell_type": "markdown",
   "metadata": {},
   "source": [
    "#### What was the most common action taken against violators?"
   ]
  },
  {
   "cell_type": "code",
   "execution_count": 22,
   "metadata": {
    "collapsed": false
   },
   "outputs": [
    {
     "name": "stdout",
     "output_type": "stream",
     "text": [
      "7 rows affected.\n"
     ]
    },
    {
     "data": {
      "text/html": [
       "<table>\n",
       "    <tr>\n",
       "        <th>result_desc</th>\n",
       "        <th>count</th>\n",
       "    </tr>\n",
       "    <tr>\n",
       "        <td>DOWNGRADE</td>\n",
       "        <td>214</td>\n",
       "    </tr>\n",
       "    <tr>\n",
       "        <td>IMMEDIATE CLOSURE</td>\n",
       "        <td>45</td>\n",
       "    </tr>\n",
       "    <tr>\n",
       "        <td>NOT IN COMPLIANCE</td>\n",
       "        <td>21</td>\n",
       "    </tr>\n",
       "    <tr>\n",
       "        <td>IN COMPLIANCE</td>\n",
       "        <td>10</td>\n",
       "    </tr>\n",
       "    <tr>\n",
       "        <td>PERMIT SUSPENSION</td>\n",
       "        <td>2</td>\n",
       "    </tr>\n",
       "    <tr>\n",
       "        <td>PERMISSION TO OPERATE</td>\n",
       "        <td>1</td>\n",
       "    </tr>\n",
       "    <tr>\n",
       "        <td>EMBARGO</td>\n",
       "        <td>1</td>\n",
       "    </tr>\n",
       "</table>"
      ],
      "text/plain": [
       "[('DOWNGRADE', 214),\n",
       " ('IMMEDIATE CLOSURE', 45),\n",
       " ('NOT IN COMPLIANCE', 21),\n",
       " ('IN COMPLIANCE', 10),\n",
       " ('PERMIT SUSPENSION', 2),\n",
       " ('PERMISSION TO OPERATE', 1),\n",
       " ('EMBARGO', 1)]"
      ]
     },
     "execution_count": 22,
     "metadata": {},
     "output_type": "execute_result"
    }
   ],
   "source": [
    "%%sql\n",
    "Select result_desc, count(*)\n",
    "From inspection\n",
    "Where action_desc not in ('APPROVED', 'NON-GRADED', 'ANNUAL STICKER ISSUED') \n",
    "Group By(result_desc)\n",
    "Order by count desc\n",
    "Limit 10;"
   ]
  },
  {
   "cell_type": "markdown",
   "metadata": {},
   "source": [
    "#### Which facilities had multiple violations?"
   ]
  },
  {
   "cell_type": "code",
   "execution_count": 23,
   "metadata": {
    "collapsed": false
   },
   "outputs": [
    {
     "name": "stdout",
     "output_type": "stream",
     "text": [
      "10 rows affected.\n"
     ]
    },
    {
     "data": {
      "text/html": [
       "<table>\n",
       "    <tr>\n",
       "        <th>facility_name</th>\n",
       "        <th>count</th>\n",
       "    </tr>\n",
       "    <tr>\n",
       "        <td>OOB CAFE AND BILLIARDS LANG THANG</td>\n",
       "        <td>19</td>\n",
       "    </tr>\n",
       "    <tr>\n",
       "        <td>OOB POP N TACO DRIVE UP INC.</td>\n",
       "        <td>17</td>\n",
       "    </tr>\n",
       "    <tr>\n",
       "        <td>OOB PER WRITTEN REQUEST 12/23/13 SCHLOTZSKYS DELI</td>\n",
       "        <td>16</td>\n",
       "    </tr>\n",
       "    <tr>\n",
       "        <td>CHILE ADDICT</td>\n",
       "        <td>15</td>\n",
       "    </tr>\n",
       "    <tr>\n",
       "        <td>RUBENS INC</td>\n",
       "        <td>13</td>\n",
       "    </tr>\n",
       "    <tr>\n",
       "        <td>OOB PER EHSII ZAHRA 01/01/14 DHAKA BAZAAR USA</td>\n",
       "        <td>13</td>\n",
       "    </tr>\n",
       "    <tr>\n",
       "        <td>GODIVA CHOCOLATIER INC</td>\n",
       "        <td>12</td>\n",
       "    </tr>\n",
       "    <tr>\n",
       "        <td>OOB MARKET FRESH CAFE</td>\n",
       "        <td>12</td>\n",
       "    </tr>\n",
       "    <tr>\n",
       "        <td>OOB SMOKIN DJS</td>\n",
       "        <td>12</td>\n",
       "    </tr>\n",
       "    <tr>\n",
       "        <td>STUFYS DRIVE THRU</td>\n",
       "        <td>11</td>\n",
       "    </tr>\n",
       "</table>"
      ],
      "text/plain": [
       "[('OOB CAFE AND BILLIARDS LANG THANG', 19),\n",
       " ('OOB POP N TACO DRIVE UP INC.', 17),\n",
       " ('OOB PER WRITTEN REQUEST 12/23/13 SCHLOTZSKYS DELI', 16),\n",
       " ('CHILE ADDICT', 15),\n",
       " ('RUBENS INC', 13),\n",
       " ('OOB PER EHSII ZAHRA 01/01/14 DHAKA BAZAAR USA', 13),\n",
       " ('GODIVA CHOCOLATIER INC', 12),\n",
       " ('OOB MARKET FRESH CAFE', 12),\n",
       " ('OOB SMOKIN DJS', 12),\n",
       " ('STUFYS DRIVE THRU', 11)]"
      ]
     },
     "execution_count": 23,
     "metadata": {},
     "output_type": "execute_result"
    }
   ],
   "source": [
    "%%sql\n",
    "Select facility_name, count(*)\n",
    "From inspection\n",
    "Where action_desc not in ('APPROVED', 'NON-GRADED', 'ANNUAL STICKER ISSUED') \n",
    "Group By(facility_name)\n",
    "Order by count desc\n",
    "Limit 10;"
   ]
  },
  {
   "cell_type": "markdown",
   "metadata": {},
   "source": [
    "#### Which months saw the maximum number of violations?"
   ]
  },
  {
   "cell_type": "code",
   "execution_count": null,
   "metadata": {
    "collapsed": true
   },
   "outputs": [],
   "source": []
  },
  {
   "cell_type": "code",
   "execution_count": 24,
   "metadata": {
    "collapsed": false
   },
   "outputs": [
    {
     "name": "stdout",
     "output_type": "stream",
     "text": [
      "10 rows affected.\n"
     ]
    },
    {
     "data": {
      "text/html": [
       "<table>\n",
       "    <tr>\n",
       "        <th>month</th>\n",
       "        <th>count</th>\n",
       "    </tr>\n",
       "    <tr>\n",
       "        <td>12.0</td>\n",
       "        <td>556</td>\n",
       "    </tr>\n",
       "    <tr>\n",
       "        <td>3.0</td>\n",
       "        <td>535</td>\n",
       "    </tr>\n",
       "    <tr>\n",
       "        <td>4.0</td>\n",
       "        <td>460</td>\n",
       "    </tr>\n",
       "    <tr>\n",
       "        <td>11.0</td>\n",
       "        <td>446</td>\n",
       "    </tr>\n",
       "    <tr>\n",
       "        <td>2.0</td>\n",
       "        <td>445</td>\n",
       "    </tr>\n",
       "    <tr>\n",
       "        <td>9.0</td>\n",
       "        <td>445</td>\n",
       "    </tr>\n",
       "    <tr>\n",
       "        <td>10.0</td>\n",
       "        <td>441</td>\n",
       "    </tr>\n",
       "    <tr>\n",
       "        <td>7.0</td>\n",
       "        <td>438</td>\n",
       "    </tr>\n",
       "    <tr>\n",
       "        <td>8.0</td>\n",
       "        <td>405</td>\n",
       "    </tr>\n",
       "    <tr>\n",
       "        <td>1.0</td>\n",
       "        <td>395</td>\n",
       "    </tr>\n",
       "</table>"
      ],
      "text/plain": [
       "[(12.0, 556),\n",
       " (3.0, 535),\n",
       " (4.0, 460),\n",
       " (11.0, 446),\n",
       " (2.0, 445),\n",
       " (9.0, 445),\n",
       " (10.0, 441),\n",
       " (7.0, 438),\n",
       " (8.0, 405),\n",
       " (1.0, 395)]"
      ]
     },
     "execution_count": 24,
     "metadata": {},
     "output_type": "execute_result"
    }
   ],
   "source": [
    "%%sql\n",
    "Select extract(month from INSPECTION_DATE) as month, count(*)\n",
    "from inspection\n",
    "Where violation_desc not in ('No Violations Found', 'None', 'Additional Comments', 'Delivered Informational Brochure') \n",
    "Group By(month)\n",
    "Order by count desc\n",
    "limit 10;"
   ]
  },
  {
   "cell_type": "markdown",
   "metadata": {},
   "source": [
    "#### Did violations decrease in 2010 when compared with 2009?"
   ]
  },
  {
   "cell_type": "code",
   "execution_count": 25,
   "metadata": {
    "collapsed": false
   },
   "outputs": [
    {
     "name": "stdout",
     "output_type": "stream",
     "text": [
      "2 rows affected.\n"
     ]
    },
    {
     "data": {
      "text/html": [
       "<table>\n",
       "    <tr>\n",
       "        <th>year</th>\n",
       "        <th>count</th>\n",
       "    </tr>\n",
       "    <tr>\n",
       "        <td>2009.0</td>\n",
       "        <td>2731</td>\n",
       "    </tr>\n",
       "    <tr>\n",
       "        <td>2010.0</td>\n",
       "        <td>2372</td>\n",
       "    </tr>\n",
       "</table>"
      ],
      "text/plain": [
       "[(2009.0, 2731), (2010.0, 2372)]"
      ]
     },
     "execution_count": 25,
     "metadata": {},
     "output_type": "execute_result"
    }
   ],
   "source": [
    "%%sql\n",
    "Select extract(year from INSPECTION_DATE) as year, count(*)\n",
    "from inspection\n",
    "Where violation_desc not in ('No Violations Found', 'None', 'Additional Comments', 'Delivered Informational Brochure') \n",
    "Group By(year)\n",
    "Order by count desc\n",
    "limit 10;"
   ]
  },
  {
   "cell_type": "markdown",
   "metadata": {},
   "source": [
    "## Bonus (10 points)\n",
    "\n",
    "We have seen a few simple techniques for normalizing data in class.  Choose a column or set of columns that might be redundant and normalize them out to another table:\n",
    "\n",
    "* Identify the columns to normalize in the source data table\n",
    "* Create one or more new tables to hold the normalized records\n",
    "* Extract data into the new tables\n",
    "* Re-insert the new foreign key references from the new table into the source table"
   ]
  },
  {
   "cell_type": "markdown",
   "metadata": {},
   "source": [
    "The most repeated values are those associated with the demographics of a facility. Normalizing them shall reduce redundancy.\n",
    "Therefore, a new table capturing facility demographics is created and a corresponding foreign key is added in the parent inspection table. "
   ]
  },
  {
   "cell_type": "code",
   "execution_count": 26,
   "metadata": {
    "collapsed": false
   },
   "outputs": [
    {
     "name": "stdout",
     "output_type": "stream",
     "text": [
      "Done.\n",
      "2835 rows affected.\n"
     ]
    },
    {
     "data": {
      "text/plain": [
       "[]"
      ]
     },
     "execution_count": 26,
     "metadata": {},
     "output_type": "execute_result"
    }
   ],
   "source": [
    "%%sql\n",
    "Drop Table if Exists facility;\n",
    "CREATE TABLE facility AS\n",
    "Select distinct(facility_key),\n",
    "facility_name,\n",
    "site_address,\n",
    "city,\n",
    "state,\n",
    "zipcode,\n",
    "owner_key,\n",
    "owner_name,\n",
    "nature_of_business,\n",
    "phone\n",
    "from inspection;"
   ]
  },
  {
   "cell_type": "code",
   "execution_count": 27,
   "metadata": {
    "collapsed": false
   },
   "outputs": [
    {
     "name": "stdout",
     "output_type": "stream",
     "text": [
      "10 rows affected.\n"
     ]
    },
    {
     "data": {
      "text/html": [
       "<table>\n",
       "    <tr>\n",
       "        <th>facility_key</th>\n",
       "        <th>facility_name</th>\n",
       "        <th>site_address</th>\n",
       "        <th>city</th>\n",
       "        <th>state</th>\n",
       "        <th>zipcode</th>\n",
       "        <th>owner_key</th>\n",
       "        <th>owner_name</th>\n",
       "        <th>nature_of_business</th>\n",
       "        <th>phone</th>\n",
       "    </tr>\n",
       "    <tr>\n",
       "        <td>51985</td>\n",
       "        <td>OOB 04.22.13 AZUMA SUSHI &amp; TEPPAN</td>\n",
       "        <td>4701 SAN MATEO NE STE #A</td>\n",
       "        <td>ALBUQUERQUE</td>\n",
       "        <td>NM</td>\n",
       "        <td>87110</td>\n",
       "        <td>48682</td>\n",
       "        <td>AZUMA SUSHI &amp; TEPPAN</td>\n",
       "        <td>RESTAURANT</td>\n",
       "        <td>5058809800</td>\n",
       "    </tr>\n",
       "    <tr>\n",
       "        <td>62915</td>\n",
       "        <td>OOB ST TIMOTHYS EVANGELICAL LUTHERAN CH</td>\n",
       "        <td>211 JEFFERSON ST NE </td>\n",
       "        <td>ALBUQUERQUE</td>\n",
       "        <td>NM</td>\n",
       "        <td>87108</td>\n",
       "        <td>57942</td>\n",
       "        <td>ST TIMOTHYS CHURCH</td>\n",
       "        <td>CHURCH KITCHEN</td>\n",
       "        <td>5052558001</td>\n",
       "    </tr>\n",
       "    <tr>\n",
       "        <td>3488</td>\n",
       "        <td>GIANT 6027</td>\n",
       "        <td>6104 ACADEMY RD NE </td>\n",
       "        <td>ALBUQUERQUE</td>\n",
       "        <td>NM</td>\n",
       "        <td>87109</td>\n",
       "        <td>2860 </td>\n",
       "        <td>WESTERN REFINING SOUTHWEST INC</td>\n",
       "        <td>GROCERY</td>\n",
       "        <td>6025858723</td>\n",
       "    </tr>\n",
       "    <tr>\n",
       "        <td>46359</td>\n",
       "        <td>MCDONALDS</td>\n",
       "        <td>301 SAN MATEO BLVD SE</td>\n",
       "        <td>ALBUQUERQUE</td>\n",
       "        <td>NM</td>\n",
       "        <td>87108</td>\n",
       "        <td>43638</td>\n",
       "        <td>PAND ENTERPRISES INC</td>\n",
       "        <td>FAST FOOD</td>\n",
       "        <td>5052686140</td>\n",
       "    </tr>\n",
       "    <tr>\n",
       "        <td>87360</td>\n",
       "        <td>OOB DCA SNACKBAR AT WEST MESA POOL</td>\n",
       "        <td>6701 FORTUNA RD NW </td>\n",
       "        <td>ALBUQUERQUE</td>\n",
       "        <td>NM</td>\n",
       "        <td>87120</td>\n",
       "        <td>79374</td>\n",
       "        <td>DUKE CITY AQUATICS FOUNDATION</td>\n",
       "        <td>SNACK BAR</td>\n",
       "        <td>5058398708</td>\n",
       "    </tr>\n",
       "    <tr>\n",
       "        <td>71596</td>\n",
       "        <td>OOB NOTHING BUT NOODLES #1</td>\n",
       "        <td>5901 P2 WYOMONG BLVD NE </td>\n",
       "        <td>ALBUQUERQUE</td>\n",
       "        <td>NM</td>\n",
       "        <td>87109</td>\n",
       "        <td>65570</td>\n",
       "        <td>ANTHONY LE</td>\n",
       "        <td>RESTAURANT</td>\n",
       "        <td>None</td>\n",
       "    </tr>\n",
       "    <tr>\n",
       "        <td>87091</td>\n",
       "        <td>PAPA JOHNS PIZZA 1342</td>\n",
       "        <td>4000 SAN MATEO ST NE </td>\n",
       "        <td>ALBUQUERQUE</td>\n",
       "        <td>NM</td>\n",
       "        <td>87110</td>\n",
       "        <td>79168</td>\n",
       "        <td>DCT ENTERPRISES OF NM LLC</td>\n",
       "        <td>RESTAURANT</td>\n",
       "        <td>5058847272</td>\n",
       "    </tr>\n",
       "    <tr>\n",
       "        <td>92052</td>\n",
       "        <td>OOB CHUCK WAGON</td>\n",
       "        <td>11412 GRAND MESA RD SE </td>\n",
       "        <td>ALBUQUERQUE</td>\n",
       "        <td>NM</td>\n",
       "        <td>87123</td>\n",
       "        <td>83403</td>\n",
       "        <td>NIKI LYNCH</td>\n",
       "        <td>MOBILE FOOD UNIT</td>\n",
       "        <td>5057307611</td>\n",
       "    </tr>\n",
       "    <tr>\n",
       "        <td>2129</td>\n",
       "        <td>BEL AIR ELEMENTARY</td>\n",
       "        <td>4725 CANDELARIA RD NE </td>\n",
       "        <td>ALBUQUERQUE</td>\n",
       "        <td>NM</td>\n",
       "        <td>87110</td>\n",
       "        <td>1838 </td>\n",
       "        <td>APS</td>\n",
       "        <td>APS SCHOOL FOOD SERVICE</td>\n",
       "        <td>None</td>\n",
       "    </tr>\n",
       "    <tr>\n",
       "        <td>89443</td>\n",
       "        <td>RODOLFO ANAYA ELEMENTARY</td>\n",
       "        <td>2800 VERMEJO PARK DR SW </td>\n",
       "        <td>ALBUQUERQUE</td>\n",
       "        <td>NM</td>\n",
       "        <td>87121</td>\n",
       "        <td>1838 </td>\n",
       "        <td>APS</td>\n",
       "        <td>APS SCHOOL FOOD SERVICE</td>\n",
       "        <td>5054523137</td>\n",
       "    </tr>\n",
       "</table>"
      ],
      "text/plain": [
       "[('51985', 'OOB 04.22.13 AZUMA SUSHI & TEPPAN', '4701 SAN MATEO NE STE #A', 'ALBUQUERQUE', 'NM', '87110', '48682', 'AZUMA SUSHI & TEPPAN', 'RESTAURANT', '5058809800'),\n",
       " ('62915', 'OOB ST TIMOTHYS EVANGELICAL LUTHERAN CH', '211 JEFFERSON ST NE ', 'ALBUQUERQUE', 'NM', '87108', '57942', 'ST TIMOTHYS CHURCH', 'CHURCH KITCHEN', '5052558001'),\n",
       " ('3488', 'GIANT 6027', '6104 ACADEMY RD NE ', 'ALBUQUERQUE', 'NM', '87109', '2860 ', 'WESTERN REFINING SOUTHWEST INC', 'GROCERY', '6025858723'),\n",
       " ('46359', 'MCDONALDS', '301 SAN MATEO BLVD SE', 'ALBUQUERQUE', 'NM', '87108', '43638', 'PAND ENTERPRISES INC', 'FAST FOOD', '5052686140'),\n",
       " ('87360', 'OOB DCA SNACKBAR AT WEST MESA POOL', '6701 FORTUNA RD NW ', 'ALBUQUERQUE', 'NM', '87120', '79374', 'DUKE CITY AQUATICS FOUNDATION', 'SNACK BAR', '5058398708'),\n",
       " ('71596', 'OOB NOTHING BUT NOODLES #1', '5901 P2 WYOMONG BLVD NE ', 'ALBUQUERQUE', 'NM', '87109', '65570', 'ANTHONY LE', 'RESTAURANT', None),\n",
       " ('87091', 'PAPA JOHNS PIZZA 1342', '4000 SAN MATEO ST NE ', 'ALBUQUERQUE', 'NM', '87110', '79168', 'DCT ENTERPRISES OF NM LLC', 'RESTAURANT', '5058847272'),\n",
       " ('92052', 'OOB CHUCK WAGON', '11412 GRAND MESA RD SE ', 'ALBUQUERQUE', 'NM', '87123', '83403', 'NIKI LYNCH', 'MOBILE FOOD UNIT', '5057307611'),\n",
       " ('2129', 'BEL AIR ELEMENTARY', '4725 CANDELARIA RD NE ', 'ALBUQUERQUE', 'NM', '87110', '1838 ', 'APS', 'APS SCHOOL FOOD SERVICE', None),\n",
       " ('89443', 'RODOLFO ANAYA ELEMENTARY', '2800 VERMEJO PARK DR SW ', 'ALBUQUERQUE', 'NM', '87121', '1838 ', 'APS', 'APS SCHOOL FOOD SERVICE', '5054523137')]"
      ]
     },
     "execution_count": 27,
     "metadata": {},
     "output_type": "execute_result"
    }
   ],
   "source": [
    "%%sql\n",
    "select * from facility\n",
    "limit 10;"
   ]
  },
  {
   "cell_type": "markdown",
   "metadata": {},
   "source": [
    "Making facility key primary key in the facility table so that it can be used as foreign key in the inspection table"
   ]
  },
  {
   "cell_type": "code",
   "execution_count": 28,
   "metadata": {
    "collapsed": false
   },
   "outputs": [
    {
     "name": "stdout",
     "output_type": "stream",
     "text": [
      "Done.\n"
     ]
    },
    {
     "data": {
      "text/plain": [
       "[]"
      ]
     },
     "execution_count": 28,
     "metadata": {},
     "output_type": "execute_result"
    }
   ],
   "source": [
    "%%sql\n",
    "Alter table facility \n",
    "Add Primary Key(facility_key);"
   ]
  },
  {
   "cell_type": "markdown",
   "metadata": {},
   "source": [
    "Adding foreign key in the inspection table"
   ]
  },
  {
   "cell_type": "code",
   "execution_count": 29,
   "metadata": {
    "collapsed": false
   },
   "outputs": [
    {
     "name": "stdout",
     "output_type": "stream",
     "text": [
      "Done.\n"
     ]
    },
    {
     "data": {
      "text/plain": [
       "[]"
      ]
     },
     "execution_count": 29,
     "metadata": {},
     "output_type": "execute_result"
    }
   ],
   "source": [
    "%%sql\n",
    "Alter table inspection\n",
    "Add CONSTRAINT facility_key\n",
    "Foreign Key (facility_key) \n",
    "References facility (facility_key) MATCH FULL;"
   ]
  },
  {
   "cell_type": "code",
   "execution_count": 30,
   "metadata": {
    "collapsed": false
   },
   "outputs": [
    {
     "name": "stdout",
     "output_type": "stream",
     "text": [
      "10 rows affected.\n"
     ]
    },
    {
     "data": {
      "text/html": [
       "<table>\n",
       "    <tr>\n",
       "        <th>facility_name</th>\n",
       "        <th>facility_key</th>\n",
       "        <th>site_address</th>\n",
       "        <th>city</th>\n",
       "        <th>state</th>\n",
       "        <th>zipcode</th>\n",
       "        <th>owner_key</th>\n",
       "        <th>owner_name</th>\n",
       "        <th>nature_of_business</th>\n",
       "        <th>post_directional</th>\n",
       "        <th>phone</th>\n",
       "        <th>program_category</th>\n",
       "        <th>program_category_description</th>\n",
       "        <th>inspection_date</th>\n",
       "        <th>inspection_desc</th>\n",
       "        <th>serial_num</th>\n",
       "        <th>action_code</th>\n",
       "        <th>action_desc</th>\n",
       "        <th>result_code</th>\n",
       "        <th>result_desc</th>\n",
       "        <th>violation_code</th>\n",
       "        <th>violation_desc</th>\n",
       "        <th>inspection_memo</th>\n",
       "    </tr>\n",
       "    <tr>\n",
       "        <td>00BSAY IT WITH CAKE</td>\n",
       "        <td>50534</td>\n",
       "        <td>10200 GOLF COURSE RD NW STE B</td>\n",
       "        <td>ALBUQUERQUE</td>\n",
       "        <td>NM</td>\n",
       "        <td>87114</td>\n",
       "        <td>47341</td>\n",
       "        <td>OOBSAY IT WITH CAKE</td>\n",
       "        <td>CAKE DECORATING</td>\n",
       "        <td>NW</td>\n",
       "        <td>5058339563</td>\n",
       "        <td>0405</td>\n",
       "        <td>Food Processor</td>\n",
       "        <td>2009-10-21 00:00:00</td>\n",
       "        <td>EMERGENCY RESPONSE</td>\n",
       "        <td>DA8009125</td>\n",
       "        <td>00</td>\n",
       "        <td>NON-GRADED</td>\n",
       "        <td>00</td>\n",
       "        <td>NOT APPLICABLE</td>\n",
       "        <td>&nbsp;&nbsp;&nbsp;&nbsp;68    </td>\n",
       "        <td>Delivered Informational Brochure</td>\n",
       "        <td>None</td>\n",
       "    </tr>\n",
       "    <tr>\n",
       "        <td>00BSAY IT WITH CAKE</td>\n",
       "        <td>50534</td>\n",
       "        <td>10200 GOLF COURSE RD NW STE B</td>\n",
       "        <td>ALBUQUERQUE</td>\n",
       "        <td>NM</td>\n",
       "        <td>87114</td>\n",
       "        <td>47341</td>\n",
       "        <td>OOBSAY IT WITH CAKE</td>\n",
       "        <td>CAKE DECORATING</td>\n",
       "        <td>NW</td>\n",
       "        <td>5058339563</td>\n",
       "        <td>0405</td>\n",
       "        <td>Food Processor</td>\n",
       "        <td>2009-10-21 00:00:00</td>\n",
       "        <td>ROUTINE FOOD INSPECTION</td>\n",
       "        <td>DA8009123</td>\n",
       "        <td>11</td>\n",
       "        <td>APPROVED</td>\n",
       "        <td>03</td>\n",
       "        <td>IN COMPLIANCE</td>\n",
       "        <td>&nbsp;&nbsp;&nbsp;&nbsp;00    </td>\n",
       "        <td>No Violations Found</td>\n",
       "        <td>None</td>\n",
       "    </tr>\n",
       "    <tr>\n",
       "        <td>00BSAY IT WITH CAKE</td>\n",
       "        <td>50534</td>\n",
       "        <td>10200 GOLF COURSE RD NW STE B</td>\n",
       "        <td>ALBUQUERQUE</td>\n",
       "        <td>NM</td>\n",
       "        <td>87114</td>\n",
       "        <td>47341</td>\n",
       "        <td>OOBSAY IT WITH CAKE</td>\n",
       "        <td>CAKE DECORATING</td>\n",
       "        <td>NW</td>\n",
       "        <td>5058339563</td>\n",
       "        <td>0405</td>\n",
       "        <td>Food Processor</td>\n",
       "        <td>2009-10-21 00:00:00</td>\n",
       "        <td>ROUTINE FOOD INSPECTION</td>\n",
       "        <td>DA8009123</td>\n",
       "        <td>11</td>\n",
       "        <td>APPROVED</td>\n",
       "        <td>03</td>\n",
       "        <td>IN COMPLIANCE</td>\n",
       "        <td>&nbsp;&nbsp;&nbsp;&nbsp;55    </td>\n",
       "        <td>Additional Comments</td>\n",
       "        <td>None</td>\n",
       "    </tr>\n",
       "    <tr>\n",
       "        <td>00BSAY IT WITH CAKE</td>\n",
       "        <td>50534</td>\n",
       "        <td>10200 GOLF COURSE RD NW STE B</td>\n",
       "        <td>ALBUQUERQUE</td>\n",
       "        <td>NM</td>\n",
       "        <td>87114</td>\n",
       "        <td>47341</td>\n",
       "        <td>OOBSAY IT WITH CAKE</td>\n",
       "        <td>CAKE DECORATING</td>\n",
       "        <td>NW</td>\n",
       "        <td>5058339563</td>\n",
       "        <td>0405</td>\n",
       "        <td>Food Processor</td>\n",
       "        <td>2010-04-14 00:00:00</td>\n",
       "        <td>ROUTINE FOOD INSPECTION</td>\n",
       "        <td>DA8010205</td>\n",
       "        <td>11</td>\n",
       "        <td>APPROVED</td>\n",
       "        <td>03</td>\n",
       "        <td>IN COMPLIANCE</td>\n",
       "        <td>&nbsp;&nbsp;&nbsp;&nbsp;00    </td>\n",
       "        <td>No Violations Found</td>\n",
       "        <td>None</td>\n",
       "    </tr>\n",
       "    <tr>\n",
       "        <td>00BSAY IT WITH CAKE</td>\n",
       "        <td>50534</td>\n",
       "        <td>10200 GOLF COURSE RD NW STE B</td>\n",
       "        <td>ALBUQUERQUE</td>\n",
       "        <td>NM</td>\n",
       "        <td>87114</td>\n",
       "        <td>47341</td>\n",
       "        <td>OOBSAY IT WITH CAKE</td>\n",
       "        <td>CAKE DECORATING</td>\n",
       "        <td>NW</td>\n",
       "        <td>5058339563</td>\n",
       "        <td>0405</td>\n",
       "        <td>Food Processor</td>\n",
       "        <td>2010-04-14 00:00:00</td>\n",
       "        <td>ROUTINE FOOD INSPECTION</td>\n",
       "        <td>DA8010205</td>\n",
       "        <td>11</td>\n",
       "        <td>APPROVED</td>\n",
       "        <td>03</td>\n",
       "        <td>IN COMPLIANCE</td>\n",
       "        <td>&nbsp;&nbsp;&nbsp;&nbsp;55    </td>\n",
       "        <td>Additional Comments</td>\n",
       "        <td>None</td>\n",
       "    </tr>\n",
       "    <tr>\n",
       "        <td>2000 VIETNAM RESTAURANT</td>\n",
       "        <td>31468</td>\n",
       "        <td>601 SAN MATEO BLVD SE </td>\n",
       "        <td>ALBUQUERQUE</td>\n",
       "        <td>NM</td>\n",
       "        <td>87108</td>\n",
       "        <td>29294</td>\n",
       "        <td>2000 VIETMAN RESTAURANT</td>\n",
       "        <td>RESTAURANT</td>\n",
       "        <td>SE</td>\n",
       "        <td>5052320900</td>\n",
       "        <td>0406</td>\n",
       "        <td>Food Service Establishment</td>\n",
       "        <td>2010-03-23 00:00:00</td>\n",
       "        <td>ROUTINE FOOD INSPECTION</td>\n",
       "        <td>DA8509472</td>\n",
       "        <td>11</td>\n",
       "        <td>APPROVED</td>\n",
       "        <td>03</td>\n",
       "        <td>IN COMPLIANCE</td>\n",
       "        <td>&nbsp;&nbsp;&nbsp;&nbsp;34    </td>\n",
       "        <td>Food contact surfaces</td>\n",
       "        <td>None</td>\n",
       "    </tr>\n",
       "    <tr>\n",
       "        <td>2000 VIETNAM RESTAURANT</td>\n",
       "        <td>31468</td>\n",
       "        <td>601 SAN MATEO BLVD SE </td>\n",
       "        <td>ALBUQUERQUE</td>\n",
       "        <td>NM</td>\n",
       "        <td>87108</td>\n",
       "        <td>29294</td>\n",
       "        <td>2000 VIETMAN RESTAURANT</td>\n",
       "        <td>RESTAURANT</td>\n",
       "        <td>SE</td>\n",
       "        <td>5052320900</td>\n",
       "        <td>0406</td>\n",
       "        <td>Food Service Establishment</td>\n",
       "        <td>2010-03-23 00:00:00</td>\n",
       "        <td>ROUTINE FOOD INSPECTION</td>\n",
       "        <td>DA8509472</td>\n",
       "        <td>11</td>\n",
       "        <td>APPROVED</td>\n",
       "        <td>03</td>\n",
       "        <td>IN COMPLIANCE</td>\n",
       "        <td>&nbsp;&nbsp;&nbsp;&nbsp;35    </td>\n",
       "        <td>Non-Food contact surfaces</td>\n",
       "        <td>None</td>\n",
       "    </tr>\n",
       "    <tr>\n",
       "        <td>2000 VIETNAM RESTAURANT</td>\n",
       "        <td>31468</td>\n",
       "        <td>601 SAN MATEO BLVD SE </td>\n",
       "        <td>ALBUQUERQUE</td>\n",
       "        <td>NM</td>\n",
       "        <td>87108</td>\n",
       "        <td>29294</td>\n",
       "        <td>2000 VIETMAN RESTAURANT</td>\n",
       "        <td>RESTAURANT</td>\n",
       "        <td>SE</td>\n",
       "        <td>5052320900</td>\n",
       "        <td>0406</td>\n",
       "        <td>Food Service Establishment</td>\n",
       "        <td>2010-03-23 00:00:00</td>\n",
       "        <td>ROUTINE FOOD INSPECTION</td>\n",
       "        <td>DA8509472</td>\n",
       "        <td>11</td>\n",
       "        <td>APPROVED</td>\n",
       "        <td>03</td>\n",
       "        <td>IN COMPLIANCE</td>\n",
       "        <td>&nbsp;&nbsp;&nbsp;&nbsp;55    </td>\n",
       "        <td>Additional Comments</td>\n",
       "        <td>None</td>\n",
       "    </tr>\n",
       "    <tr>\n",
       "        <td>328 CHINESE CUISINE</td>\n",
       "        <td>72789</td>\n",
       "        <td>5617 MENAUL BLVD NE STE A</td>\n",
       "        <td>ALBUQUERQUE</td>\n",
       "        <td>NM</td>\n",
       "        <td>87110</td>\n",
       "        <td>66644</td>\n",
       "        <td>328 CHINESE CUISINE</td>\n",
       "        <td>None</td>\n",
       "        <td>NE</td>\n",
       "        <td>5058814468</td>\n",
       "        <td>0406</td>\n",
       "        <td>Food Service Establishment</td>\n",
       "        <td>2009-12-15 00:00:00</td>\n",
       "        <td>EMERGENCY RESPONSE</td>\n",
       "        <td>DA7757250</td>\n",
       "        <td>00</td>\n",
       "        <td>NON-GRADED</td>\n",
       "        <td>00</td>\n",
       "        <td>NOT APPLICABLE</td>\n",
       "        <td>&nbsp;&nbsp;&nbsp;&nbsp;68    </td>\n",
       "        <td>Delivered Informational Brochure</td>\n",
       "        <td>None</td>\n",
       "    </tr>\n",
       "    <tr>\n",
       "        <td>328 CHINESE CUISINE</td>\n",
       "        <td>72789</td>\n",
       "        <td>5617 MENAUL BLVD NE STE A</td>\n",
       "        <td>ALBUQUERQUE</td>\n",
       "        <td>NM</td>\n",
       "        <td>87110</td>\n",
       "        <td>66644</td>\n",
       "        <td>328 CHINESE CUISINE</td>\n",
       "        <td>None</td>\n",
       "        <td>NE</td>\n",
       "        <td>5058814468</td>\n",
       "        <td>0406</td>\n",
       "        <td>Food Service Establishment</td>\n",
       "        <td>2009-12-15 00:00:00</td>\n",
       "        <td>ROUTINE FOOD INSPECTION</td>\n",
       "        <td>DA7757248</td>\n",
       "        <td>11</td>\n",
       "        <td>APPROVED</td>\n",
       "        <td>03</td>\n",
       "        <td>IN COMPLIANCE</td>\n",
       "        <td>&nbsp;&nbsp;&nbsp;&nbsp;00    </td>\n",
       "        <td>No Violations Found</td>\n",
       "        <td>None</td>\n",
       "    </tr>\n",
       "</table>"
      ],
      "text/plain": [
       "[('00BSAY IT WITH CAKE', '50534', '10200 GOLF COURSE RD NW STE B', 'ALBUQUERQUE', 'NM', '87114', '47341', 'OOBSAY IT WITH CAKE', 'CAKE DECORATING', 'NW', '5058339563', '0405', 'Food Processor', datetime.datetime(2009, 10, 21, 0, 0), 'EMERGENCY RESPONSE', 'DA8009125', '00', 'NON-GRADED', '00', 'NOT APPLICABLE', '    68    ', 'Delivered Informational Brochure', None),\n",
       " ('00BSAY IT WITH CAKE', '50534', '10200 GOLF COURSE RD NW STE B', 'ALBUQUERQUE', 'NM', '87114', '47341', 'OOBSAY IT WITH CAKE', 'CAKE DECORATING', 'NW', '5058339563', '0405', 'Food Processor', datetime.datetime(2009, 10, 21, 0, 0), 'ROUTINE FOOD INSPECTION', 'DA8009123', '11', 'APPROVED', '03', 'IN COMPLIANCE', '    00    ', 'No Violations Found', None),\n",
       " ('00BSAY IT WITH CAKE', '50534', '10200 GOLF COURSE RD NW STE B', 'ALBUQUERQUE', 'NM', '87114', '47341', 'OOBSAY IT WITH CAKE', 'CAKE DECORATING', 'NW', '5058339563', '0405', 'Food Processor', datetime.datetime(2009, 10, 21, 0, 0), 'ROUTINE FOOD INSPECTION', 'DA8009123', '11', 'APPROVED', '03', 'IN COMPLIANCE', '    55    ', 'Additional Comments', None),\n",
       " ('00BSAY IT WITH CAKE', '50534', '10200 GOLF COURSE RD NW STE B', 'ALBUQUERQUE', 'NM', '87114', '47341', 'OOBSAY IT WITH CAKE', 'CAKE DECORATING', 'NW', '5058339563', '0405', 'Food Processor', datetime.datetime(2010, 4, 14, 0, 0), 'ROUTINE FOOD INSPECTION', 'DA8010205', '11', 'APPROVED', '03', 'IN COMPLIANCE', '    00    ', 'No Violations Found', None),\n",
       " ('00BSAY IT WITH CAKE', '50534', '10200 GOLF COURSE RD NW STE B', 'ALBUQUERQUE', 'NM', '87114', '47341', 'OOBSAY IT WITH CAKE', 'CAKE DECORATING', 'NW', '5058339563', '0405', 'Food Processor', datetime.datetime(2010, 4, 14, 0, 0), 'ROUTINE FOOD INSPECTION', 'DA8010205', '11', 'APPROVED', '03', 'IN COMPLIANCE', '    55    ', 'Additional Comments', None),\n",
       " ('2000 VIETNAM RESTAURANT', '31468', '601 SAN MATEO BLVD SE ', 'ALBUQUERQUE', 'NM', '87108', '29294', '2000 VIETMAN RESTAURANT', 'RESTAURANT', 'SE', '5052320900', '0406', 'Food Service Establishment', datetime.datetime(2010, 3, 23, 0, 0), 'ROUTINE FOOD INSPECTION', 'DA8509472', '11', 'APPROVED', '03', 'IN COMPLIANCE', '    34    ', 'Food contact surfaces', None),\n",
       " ('2000 VIETNAM RESTAURANT', '31468', '601 SAN MATEO BLVD SE ', 'ALBUQUERQUE', 'NM', '87108', '29294', '2000 VIETMAN RESTAURANT', 'RESTAURANT', 'SE', '5052320900', '0406', 'Food Service Establishment', datetime.datetime(2010, 3, 23, 0, 0), 'ROUTINE FOOD INSPECTION', 'DA8509472', '11', 'APPROVED', '03', 'IN COMPLIANCE', '    35    ', 'Non-Food contact surfaces', None),\n",
       " ('2000 VIETNAM RESTAURANT', '31468', '601 SAN MATEO BLVD SE ', 'ALBUQUERQUE', 'NM', '87108', '29294', '2000 VIETMAN RESTAURANT', 'RESTAURANT', 'SE', '5052320900', '0406', 'Food Service Establishment', datetime.datetime(2010, 3, 23, 0, 0), 'ROUTINE FOOD INSPECTION', 'DA8509472', '11', 'APPROVED', '03', 'IN COMPLIANCE', '    55    ', 'Additional Comments', None),\n",
       " ('328 CHINESE CUISINE', '72789', '5617 MENAUL BLVD NE STE A', 'ALBUQUERQUE', 'NM', '87110', '66644', '328 CHINESE CUISINE', None, 'NE', '5058814468', '0406', 'Food Service Establishment', datetime.datetime(2009, 12, 15, 0, 0), 'EMERGENCY RESPONSE', 'DA7757250', '00', 'NON-GRADED', '00', 'NOT APPLICABLE', '    68    ', 'Delivered Informational Brochure', None),\n",
       " ('328 CHINESE CUISINE', '72789', '5617 MENAUL BLVD NE STE A', 'ALBUQUERQUE', 'NM', '87110', '66644', '328 CHINESE CUISINE', None, 'NE', '5058814468', '0406', 'Food Service Establishment', datetime.datetime(2009, 12, 15, 0, 0), 'ROUTINE FOOD INSPECTION', 'DA7757248', '11', 'APPROVED', '03', 'IN COMPLIANCE', '    00    ', 'No Violations Found', None)]"
      ]
     },
     "execution_count": 30,
     "metadata": {},
     "output_type": "execute_result"
    }
   ],
   "source": [
    "%%sql\n",
    "select * from inspection\n",
    "limit 10;"
   ]
  },
  {
   "cell_type": "markdown",
   "metadata": {},
   "source": [
    "Finally deleting facility demographics from the parent table 'inspection'"
   ]
  },
  {
   "cell_type": "code",
   "execution_count": 31,
   "metadata": {
    "collapsed": false
   },
   "outputs": [
    {
     "name": "stdout",
     "output_type": "stream",
     "text": [
      "Done.\n"
     ]
    },
    {
     "data": {
      "text/plain": [
       "[]"
      ]
     },
     "execution_count": 31,
     "metadata": {},
     "output_type": "execute_result"
    }
   ],
   "source": [
    "%%sql \n",
    "Alter table inspection\n",
    "Drop Column facility_name,\n",
    "Drop Column site_address,\n",
    "Drop Column city,\n",
    "Drop Column state,\n",
    "Drop Column zipcode,\n",
    "Drop Column owner_key,\n",
    "Drop Column owner_name,\n",
    "Drop Column nature_of_business,\n",
    "Drop Column phone;\n",
    "\n"
   ]
  }
 ],
 "metadata": {
  "anaconda-cloud": {},
  "kernelspec": {
   "display_name": "Python 3",
   "language": "python",
   "name": "python3"
  },
  "language_info": {
   "codemirror_mode": {
    "name": "ipython",
    "version": 3
   },
   "file_extension": ".py",
   "mimetype": "text/x-python",
   "name": "python",
   "nbconvert_exporter": "python",
   "pygments_lexer": "ipython3",
   "version": "3.5.2"
  }
 },
 "nbformat": 4,
 "nbformat_minor": 1
}
