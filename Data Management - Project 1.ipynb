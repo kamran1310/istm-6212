{
 "cells": [
  {
   "cell_type": "code",
   "execution_count": 1,
   "metadata": {
    "collapsed": true
   },
   "outputs": [],
   "source": [
    "# Problem 1 - Word counts"
   ]
  },
  {
   "cell_type": "markdown",
   "metadata": {},
   "source": [
    "### Part A. Characters in Little Women"
   ]
  },
  {
   "cell_type": "code",
   "execution_count": 2,
   "metadata": {
    "collapsed": false
   },
   "outputs": [
    {
     "name": "stdout",
     "output_type": "stream",
     "text": [
      "--2016-09-25 23:44:53--  https://raw.githubusercontent.com/gwsb-istm-6212-fall-2016/syllabus-and-schedule/master/projects/project-01/women.txt\n",
      "Resolving raw.githubusercontent.com (raw.githubusercontent.com)... 151.101.32.133\n",
      "Connecting to raw.githubusercontent.com (raw.githubusercontent.com)|151.101.32.133|:443... connected.\n",
      "HTTP request sent, awaiting response... 200 OK\n",
      "Length: 1053440 (1.0M) [text/plain]\n",
      "Saving to: ‘women.txt’\n",
      "\n",
      "women.txt           100%[===================>]   1.00M  1.88MB/s    in 0.5s    \n",
      "\n",
      "2016-09-25 23:44:54 (1.88 MB/s) - ‘women.txt’ saved [1053440/1053440]\n",
      "\n"
     ]
    }
   ],
   "source": [
    "!wget https://raw.githubusercontent.com/gwsb-istm-6212-fall-2016/syllabus-and-schedule/master/projects/project-01/women.txt"
   ]
  },
  {
   "cell_type": "code",
   "execution_count": 3,
   "metadata": {
    "collapsed": false
   },
   "outputs": [
    {
     "name": "stdout",
     "output_type": "stream",
     "text": [
      "1543\r\n"
     ]
    }
   ],
   "source": [
    "#counting how many times 'Jo' is mentioned in women.txt\n",
    "!cat women.txt | grep -oE Jo | wc -w"
   ]
  },
  {
   "cell_type": "code",
   "execution_count": 4,
   "metadata": {
    "collapsed": false
   },
   "outputs": [
    {
     "name": "stdout",
     "output_type": "stream",
     "text": [
      "465\r\n"
     ]
    }
   ],
   "source": [
    "#counting how many times 'Beth' is mentioned in women.txt\n",
    "!cat women.txt | grep -oE Beth | wc -w"
   ]
  },
  {
   "cell_type": "code",
   "execution_count": 5,
   "metadata": {
    "collapsed": false
   },
   "outputs": [
    {
     "name": "stdout",
     "output_type": "stream",
     "text": [
      "685\r\n"
     ]
    }
   ],
   "source": [
    "#counting how many times 'Meg' is mentioned in women.txt\n",
    "!cat women.txt | grep -oE Meg | wc -w"
   ]
  },
  {
   "cell_type": "code",
   "execution_count": 6,
   "metadata": {
    "collapsed": false,
    "scrolled": true
   },
   "outputs": [
    {
     "name": "stdout",
     "output_type": "stream",
     "text": [
      "645\r\n"
     ]
    }
   ],
   "source": [
    "#counting how many times 'Amy' is mentioned in women.txt\n",
    "!grep -oE Amy women.txt | wc -w"
   ]
  },
  {
   "cell_type": "markdown",
   "metadata": {},
   "source": [
    "### Part B. Juliet and Romeo in Romeo and Juliet"
   ]
  },
  {
   "cell_type": "code",
   "execution_count": 7,
   "metadata": {
    "collapsed": false
   },
   "outputs": [
    {
     "name": "stdout",
     "output_type": "stream",
     "text": [
      "--2016-09-25 23:45:01--  https://raw.githubusercontent.com/gwsb-istm-6212-fall-2016/syllabus-and-schedule/master/projects/project-01/romeo.txt\n",
      "Resolving raw.githubusercontent.com (raw.githubusercontent.com)... 151.101.32.133\n",
      "Connecting to raw.githubusercontent.com (raw.githubusercontent.com)|151.101.32.133|:443... connected.\n",
      "HTTP request sent, awaiting response... 200 OK\n",
      "Length: 178983 (175K) [text/plain]\n",
      "Saving to: ‘romeo.txt’\n",
      "\n",
      "romeo.txt           100%[===================>] 174.79K  --.-KB/s    in 0.1s    \n",
      "\n",
      "2016-09-25 23:45:01 (1.32 MB/s) - ‘romeo.txt’ saved [178983/178983]\n",
      "\n"
     ]
    }
   ],
   "source": [
    "!wget https://raw.githubusercontent.com/gwsb-istm-6212-fall-2016/syllabus-and-schedule/master/projects/project-01/romeo.txt"
   ]
  },
  {
   "cell_type": "code",
   "execution_count": 8,
   "metadata": {
    "collapsed": false
   },
   "outputs": [
    {
     "name": "stdout",
     "output_type": "stream",
     "text": [
      "163\r\n"
     ]
    }
   ],
   "source": [
    "#counting the number of lines 'Romeo' has in the play \n",
    "!grep -oE 'Rom. ' romeo.txt | wc -w"
   ]
  },
  {
   "cell_type": "code",
   "execution_count": 9,
   "metadata": {
    "collapsed": false
   },
   "outputs": [
    {
     "name": "stdout",
     "output_type": "stream",
     "text": [
      "117\r\n"
     ]
    }
   ],
   "source": [
    "#counting the number of lines 'Juliet' has in the play \n",
    "!grep -oE 'Jul. ' romeo.txt | wc -w"
   ]
  },
  {
   "cell_type": "markdown",
   "metadata": {},
   "source": [
    "# Problem 2 - Capital Bikeshare "
   ]
  },
  {
   "cell_type": "markdown",
   "metadata": {},
   "source": [
    "### Part A "
   ]
  },
  {
   "cell_type": "code",
   "execution_count": 10,
   "metadata": {
    "collapsed": false
   },
   "outputs": [
    {
     "name": "stdout",
     "output_type": "stream",
     "text": [
      "--2016-09-25 23:45:06--  https://raw.githubusercontent.com/gwsb-istm-6212-fall-2016/syllabus-and-schedule/master/projects/project-01/2016q1.csv.zip\n",
      "Resolving raw.githubusercontent.com (raw.githubusercontent.com)... 151.101.32.133\n",
      "Connecting to raw.githubusercontent.com (raw.githubusercontent.com)|151.101.32.133|:443... connected.\n",
      "HTTP request sent, awaiting response... 200 OK\n",
      "Length: 10643003 (10M) [application/octet-stream]\n",
      "Saving to: ‘2016q1.csv.zip’\n",
      "\n",
      "2016q1.csv.zip      100%[===================>]  10.15M  2.07MB/s    in 5.2s    \n",
      "\n",
      "2016-09-25 23:45:11 (1.95 MB/s) - ‘2016q1.csv.zip’ saved [10643003/10643003]\n",
      "\n"
     ]
    }
   ],
   "source": [
    "!wget https://raw.githubusercontent.com/gwsb-istm-6212-fall-2016/syllabus-and-schedule/master/projects/project-01/2016q1.csv.zip"
   ]
  },
  {
   "cell_type": "code",
   "execution_count": 11,
   "metadata": {
    "collapsed": false
   },
   "outputs": [
    {
     "name": "stdout",
     "output_type": "stream",
     "text": [
      "Archive:  2016q1.csv.zip\n",
      "  inflating: 2016q1.csv              \n"
     ]
    }
   ],
   "source": [
    "!unzip 2016q1.csv.zip "
   ]
  },
  {
   "cell_type": "code",
   "execution_count": 12,
   "metadata": {
    "collapsed": false
   },
   "outputs": [],
   "source": [
    "!mv 2016q1.csv problem2.csv"
   ]
  },
  {
   "cell_type": "code",
   "execution_count": 13,
   "metadata": {
    "collapsed": false
   },
   "outputs": [
    {
     "name": "stdout",
     "output_type": "stream",
     "text": [
      "  13120 Columbus Circle / Union Station\r\n",
      "   9560 Massachusetts Ave & Dupont Circle NW\r\n",
      "   9388 Lincoln Memorial\r\n",
      "   8138 Jefferson Dr & 14th St SW\r\n",
      "   7479 Thomas Circle\r\n",
      "   7401 15th & P St NW\r\n",
      "   6568 14th & V St NW\r\n",
      "   6491 New Hampshire Ave & T St NW\r\n",
      "   5649 Eastern Market Metro / Pennsylvania Ave & 7th St SE\r\n",
      "   5514 17th & Corcoran St NW\r\n"
     ]
    }
   ],
   "source": [
    "#Finding the most popular departing station\n",
    "!csvcut -c5 problem2.csv | csvsort | uniq -c | sort -rn | head -10"
   ]
  },
  {
   "cell_type": "code",
   "execution_count": 14,
   "metadata": {
    "collapsed": false
   },
   "outputs": [
    {
     "name": "stdout",
     "output_type": "stream",
     "text": [
      "  13880 Columbus Circle / Union Station\r\n",
      "  11183 Massachusetts Ave & Dupont Circle NW\r\n",
      "   9419 Lincoln Memorial\r\n",
      "   8975 Jefferson Dr & 14th St SW\r\n",
      "   8092 15th & P St NW\r\n",
      "   7267 14th & V St NW\r\n",
      "   6997 Thomas Circle\r\n",
      "   6245 New Hampshire Ave & T St NW\r\n",
      "   5761 5th & K St NW\r\n",
      "   5651 17th & Corcoran St NW\r\n"
     ]
    }
   ],
   "source": [
    "#Finding the most popular destination station\n",
    "!csvcut -c7 problem2.csv | csvsort | uniq -c | sort -rn | head -10"
   ]
  },
  {
   "cell_type": "markdown",
   "metadata": {},
   "source": [
    "### Part B"
   ]
  },
  {
   "cell_type": "code",
   "execution_count": 15,
   "metadata": {
    "collapsed": false
   },
   "outputs": [
    {
     "name": "stdout",
     "output_type": "stream",
     "text": [
      "  1: Duration (ms)\r\n",
      "  2: Start date\r\n",
      "  3: End date\r\n",
      "  4: Start station number\r\n",
      "  5: Start station\r\n",
      "  6: End station number\r\n",
      "  7: End station\r\n",
      "  8: Bike number\r\n",
      "  9: Member Type\r\n"
     ]
    }
   ],
   "source": [
    "!csvcut -n problem2.csv"
   ]
  },
  {
   "cell_type": "code",
   "execution_count": 16,
   "metadata": {
    "collapsed": false
   },
   "outputs": [
    {
     "name": "stdout",
     "output_type": "stream",
     "text": [
      "W22227\r\n",
      "W21867\r\n",
      "W21641\r\n",
      "W21538\r\n",
      "W21239\r\n",
      "W20540\r\n",
      "W00714\r\n",
      "W22080\r\n",
      "W21450\r\n",
      "W21076\r\n",
      "sort: write failed: 'standard output': Broken pipe\r\n",
      "sort: write error\r\n"
     ]
    }
   ],
   "source": [
    "#Finding the ten most popular bikes used from the most popular departing station\n",
    "!csvcut -c5,8 problem2.csv | csvgrep -c1 -m 'Columbus Circle / Union Station' | csvsort -c2 | uniq -c | sort -rn | head -10 | csvcut -c2"
   ]
  },
  {
   "cell_type": "code",
   "execution_count": 17,
   "metadata": {
    "collapsed": false
   },
   "outputs": [
    {
     "name": "stdout",
     "output_type": "stream",
     "text": [
      "sort: write failed: 'standard output': Broken pipe\r\n",
      "sort: write error\r\n",
      "W00485\r\n",
      "W22227\r\n",
      "W22099\r\n",
      "W22080\r\n",
      "W21239\r\n",
      "W21076\r\n",
      "W20425\r\n",
      "W00714\r\n",
      "W21997\r\n",
      "W21867\r\n"
     ]
    }
   ],
   "source": [
    "#Finding the ten most popular bikes used from the most popular destination station\n",
    "!csvcut -c7,8 problem2.csv | csvgrep -c1 -m 'Columbus Circle / Union Station' | csvsort -c2 | uniq -c | sort -rn | head -10 | csvcut -c2"
   ]
  },
  {
   "cell_type": "markdown",
   "metadata": {},
   "source": [
    "# Problem 3 - Filters"
   ]
  },
  {
   "cell_type": "markdown",
   "metadata": {},
   "source": [
    "### Part A"
   ]
  },
  {
   "cell_type": "code",
   "execution_count": 18,
   "metadata": {
    "collapsed": true
   },
   "outputs": [],
   "source": [
    "!chmod +x split.py\n",
    "!chmod +x lower.py"
   ]
  },
  {
   "cell_type": "code",
   "execution_count": 19,
   "metadata": {
    "collapsed": false
   },
   "outputs": [
    {
     "name": "stdout",
     "output_type": "stream",
     "text": [
      "   8155 and\r\n",
      "   7689 the\r\n",
      "   5152 to\r\n",
      "   3523 of\r\n",
      "   3245 her\r\n",
      "   2774 it\r\n",
      "   2503 in\r\n",
      "   2447 you\r\n",
      "   2343 she\r\n",
      "   2233 for\r\n",
      "sort: write failed: 'standard output': Broken pipe\r\n",
      "sort: write error\r\n"
     ]
    }
   ],
   "source": [
    "!cat women.txt |  ./split.py  | ./lower.py | sort | uniq -c | sort -rn | head -10"
   ]
  },
  {
   "cell_type": "code",
   "execution_count": 20,
   "metadata": {
    "collapsed": false,
    "scrolled": true
   },
   "outputs": [
    {
     "name": "stdout",
     "output_type": "stream",
     "text": [
      "   8155 and\r\n",
      "   7689 the\r\n",
      "   5152 to\r\n",
      "   3523 of\r\n",
      "   3245 her\r\n",
      "   2774 it\r\n",
      "   2503 in\r\n",
      "   2447 you\r\n",
      "   2343 she\r\n",
      "   2233 for\r\n",
      "sort: write failed: 'standard output': Broken pipe\r\n",
      "sort: write error\r\n"
     ]
    }
   ],
   "source": [
    "!cat women.txt |  grep -oE '\\w{{2,}}'  | tr '[:upper:]' '[:lower:]' | sort | uniq -c | sort -rn | head -10"
   ]
  },
  {
   "cell_type": "markdown",
   "metadata": {
    "collapsed": false
   },
   "source": [
    "### Part B"
   ]
  },
  {
   "cell_type": "code",
   "execution_count": 21,
   "metadata": {
    "collapsed": false
   },
   "outputs": [
    {
     "name": "stdout",
     "output_type": "stream",
     "text": [
      "   1362 jo\r\n",
      "    827 said\r\n",
      "    730 little\r\n",
      "    725 one\r\n",
      "    686 meg\r\n",
      "    652 amy\r\n",
      "    598 laurie\r\n",
      "    591 like\r\n",
      "    550 don\r\n",
      "    508 will\r\n",
      "sort: write failed: 'standard output': Broken pipe\r\n",
      "sort: write error\r\n"
     ]
    }
   ],
   "source": [
    "!chmod +x stopwords.py\n",
    "!cat women.txt | grep -oE '\\w{{2,}}'  | tr '[:upper:]' '[:lower:]' |./stopwords.py | sort | uniq -c | sort -rn | head -10"
   ]
  },
  {
   "cell_type": "markdown",
   "metadata": {},
   "source": [
    "# Extra Credit"
   ]
  },
  {
   "cell_type": "code",
   "execution_count": 22,
   "metadata": {
    "collapsed": false
   },
   "outputs": [
    {
     "name": "stdout",
     "output_type": "stream",
     "text": [
      "--2016-09-25 23:50:55--  https://raw.githubusercontent.com/gwsb-istm-6212-fall-2016/syllabus-and-schedule/master/projects/project-01/texts.zip\n",
      "Resolving raw.githubusercontent.com (raw.githubusercontent.com)... 151.101.32.133\n",
      "Connecting to raw.githubusercontent.com (raw.githubusercontent.com)|151.101.32.133|:443... connected.\n",
      "HTTP request sent, awaiting response... 200 OK\n",
      "Length: 12668137 (12M) [application/octet-stream]\n",
      "Saving to: ‘texts.zip’\n",
      "\n",
      "texts.zip           100%[===================>]  12.08M  1.95MB/s    in 5.7s    \n",
      "\n",
      "2016-09-25 23:51:01 (2.14 MB/s) - ‘texts.zip’ saved [12668137/12668137]\n",
      "\n"
     ]
    }
   ],
   "source": [
    "!wget https://raw.githubusercontent.com/gwsb-istm-6212-fall-2016/syllabus-and-schedule/master/projects/project-01/texts.zip"
   ]
  },
  {
   "cell_type": "code",
   "execution_count": 23,
   "metadata": {
    "collapsed": false
   },
   "outputs": [
    {
     "name": "stdout",
     "output_type": "stream",
     "text": [
      "Archive:  texts.zip\n",
      "  inflating: many-texts/10001.txt    \n",
      "  inflating: many-texts/10002.txt    \n",
      "  inflating: many-texts/10003.txt    \n",
      "  inflating: many-texts/10004.txt    \n",
      "  inflating: many-texts/10005.txt    \n",
      "  inflating: many-texts/10006.txt    \n",
      "  inflating: many-texts/10007.txt    \n",
      "  inflating: many-texts/10008.txt    \n",
      "  inflating: many-texts/10009.txt    \n",
      "  inflating: many-texts/10010.txt    \n",
      "  inflating: many-texts/10011.txt    \n",
      "  inflating: many-texts/10012.txt    \n",
      "  inflating: many-texts/10013.txt    \n",
      "  inflating: many-texts/10014.txt    \n",
      "  inflating: many-texts/10015.txt    \n",
      "  inflating: many-texts/10016.txt    \n",
      "  inflating: many-texts/10017.txt    \n",
      "  inflating: many-texts/10018.txt    \n",
      "  inflating: many-texts/10019.txt    \n",
      "  inflating: many-texts/10020.txt    \n",
      "  inflating: many-texts/10021.txt    \n",
      "  inflating: many-texts/10023.txt    \n",
      "  inflating: many-texts/10024.txt    \n",
      "  inflating: many-texts/10025.txt    \n",
      "  inflating: many-texts/10026.txt    \n",
      "  inflating: many-texts/10027.txt    \n",
      "  inflating: many-texts/10028.txt    \n",
      "  inflating: many-texts/10029.txt    \n",
      "  inflating: many-texts/10030.txt    \n",
      "  inflating: many-texts/10031.txt    \n",
      "  inflating: many-texts/10032.txt    \n",
      "  inflating: many-texts/10033.txt    \n",
      "  inflating: many-texts/10034.txt    \n",
      "  inflating: many-texts/10035.txt    \n",
      "  inflating: many-texts/10036.txt    \n",
      "  inflating: many-texts/10037.txt    \n",
      "  inflating: many-texts/10038.txt    \n",
      "  inflating: many-texts/10039.txt    \n",
      "  inflating: many-texts/10040.txt    \n",
      "  inflating: many-texts/10041.txt    \n",
      "  inflating: many-texts/10042.txt    \n",
      "  inflating: many-texts/10043.txt    \n",
      "  inflating: many-texts/10045.txt    \n",
      "  inflating: many-texts/10046.txt    \n",
      "  inflating: many-texts/10047.txt    \n",
      "  inflating: many-texts/10048.txt    \n",
      "  inflating: many-texts/10049.txt    \n",
      "  inflating: many-texts/10050.txt    \n",
      "  inflating: many-texts/10051.txt    \n",
      "  inflating: many-texts/10052.txt    \n",
      "  inflating: many-texts/10056.txt    \n",
      "  inflating: many-texts/10059.txt    \n",
      "  inflating: many-texts/10060.txt    \n",
      "  inflating: many-texts/10062.txt    \n",
      "  inflating: many-texts/12370.txt    \n",
      "  inflating: many-texts/12372.txt    \n",
      "  inflating: many-texts/12373.txt    \n",
      "  inflating: many-texts/12374.txt    \n",
      "  inflating: many-texts/12375.txt    \n",
      "  inflating: many-texts/12376.txt    \n",
      "  inflating: many-texts/12377.txt    \n",
      "  inflating: many-texts/12378.txt    \n",
      "  inflating: many-texts/12380.txt    \n",
      "  inflating: many-texts/12381.txt    \n",
      "  inflating: many-texts/12383.txt    \n",
      "  inflating: many-texts/12384.txt    \n",
      "  inflating: many-texts/12385.txt    \n",
      "  inflating: many-texts/12386.txt    \n",
      "  inflating: many-texts/1jcfs10.txt  \n",
      "  inflating: many-texts/2babb10.txt  \n",
      "  inflating: many-texts/3babb10.txt  \n",
      "  inflating: many-texts/50bab10.txt  \n",
      "  inflating: many-texts/ajtl10.txt   \n",
      "  inflating: many-texts/allyr10.txt  \n",
      "  inflating: many-texts/alpsn10.txt  \n",
      "  inflating: many-texts/balen10.txt  \n",
      "  inflating: many-texts/baleng2.txt  \n",
      "  inflating: many-texts/batlf10.txt  \n",
      "  inflating: many-texts/bgopr10.txt  \n",
      "  inflating: many-texts/brnte10.txt  \n",
      "  inflating: many-texts/bstjg10.txt  \n",
      "  inflating: many-texts/cambp10.txt  \n",
      "  inflating: many-texts/canbe10.txt  \n",
      "  inflating: many-texts/cantp10.txt  \n",
      "  inflating: many-texts/cfrz10.txt   \n",
      "  inflating: many-texts/crsnk10.txt  \n",
      "  inflating: many-texts/esbio10.txt  \n",
      "  inflating: many-texts/grybr10.txt  \n",
      "  inflating: many-texts/mklmt10.txt  \n",
      "  inflating: many-texts/morem10.txt  \n",
      "  inflating: many-texts/mspcd10.txt  \n",
      "  inflating: many-texts/penbr10.txt  \n",
      "  inflating: many-texts/pgjr10.txt   \n",
      "  inflating: many-texts/pntvw10.txt  \n",
      "  inflating: many-texts/prcpg10.txt  \n",
      "  inflating: many-texts/prhg10.txt   \n",
      "  inflating: many-texts/prhsb10.txt  \n",
      "  inflating: many-texts/rlsl110.txt  \n",
      "  inflating: many-texts/rlsl210.txt  \n",
      "  inflating: many-texts/rmlav10.txt  \n",
      "  inflating: many-texts/sesli10.txt  \n",
      "  inflating: many-texts/svyrd10.txt  \n",
      "  inflating: many-texts/tecom10.txt  \n",
      "  inflating: many-texts/utrkj10.txt  \n",
      "  inflating: many-texts/vpasm10.txt  \n",
      "  inflating: many-texts/wldsp10.txt  \n",
      "  inflating: many-texts/wtrbs10.txt  \n",
      "  inflating: many-texts/zncli10.txt  \n"
     ]
    }
   ],
   "source": [
    "!unzip -d many-texts texts.zip"
   ]
  },
  {
   "cell_type": "code",
   "execution_count": 24,
   "metadata": {
    "collapsed": false
   },
   "outputs": [
    {
     "name": "stdout",
     "output_type": "stream",
     "text": [
      "0.00user 0.00system 0:00.00elapsed 0%CPU (0avgtext+0avgdata 2420maxresident)k\n",
      "0inputs+0outputs (0major+115minor)pagefaults 0swaps\n",
      "When using programs that use GNU Parallel to process data for publication please cite:\n",
      "\n",
      "  O. Tange (2011): GNU Parallel - The Command-Line Power Tool,\n",
      "  ;login: The USENIX Magazine, February 2011:42-47.\n",
      "\n",
      "This helps funding further development; and it won't cost you a cent.\n",
      "Or you can get GNU Parallel without this requirement by paying 10000 EUR.\n",
      "\n",
      "To silence this citation notice run 'parallel --bibtex' once or use '--no-notice'.\n",
      "\n",
      "\u001b7\u001b[r\u001b[999;999H\u001b[6n\n",
      "Computers / CPU cores / Max jobs to run\n",
      "1:local / 2 / 2\n",
      "\u001b7\u001b[r\u001b[999;999H\u001b[6n\n",
      "Computer:jobs running/jobs completed/%of started jobs/Average seconds to complete\n",
      "ETA: 0s Left: 0 AVG: 4.93s  local:0/108/100%/5.2s \n"
     ]
    }
   ],
   "source": [
    "!time ls many-texts/*.txt \\\n",
    "    | parallel --eta -j+0 \"grep -oE '\\w{2,}' {} | tr '[:upper:]' '[:lower:]' | python stopwords.py >> many-texts/all-words.txt\""
   ]
  },
  {
   "cell_type": "code",
   "execution_count": 25,
   "metadata": {
    "collapsed": false
   },
   "outputs": [
    {
     "name": "stdout",
     "output_type": "stream",
     "text": [
      "9.70user 0.10system 0:06.09elapsed 160%CPU (0avgtext+0avgdata 199212maxresident)k\n",
      "0inputs+0outputs (0major+856minor)pagefaults 0swaps\n",
      "  19588 one\n",
      "  12662 said\n",
      "  12338 will\n",
      "   9685 man\n",
      "   9502 now\n",
      "   9122 can\n",
      "   8817 like\n",
      "   8723 little\n",
      "   8607 time\n",
      "   8541 upon\n",
      "   8362 may\n",
      "   7765 gutenberg\n",
      "   7488 see\n",
      "   7320 well\n",
      "   7308 project\n",
      "   7015 two\n",
      "   6822 great\n",
      "   6783 old\n",
      "   6751 day\n",
      "   6671 work\n",
      "   6669 know\n",
      "   6623 us\n",
      "   6566 good\n",
      "   6510 must\n",
      "   6444 made\n",
      "sort: write failed: 'standard output': Broken pipe\n",
      "sort: write error\n"
     ]
    }
   ],
   "source": [
    "!time sort many-texts/all-words.txt \\\n",
    "    | uniq -c \\\n",
    "    | sort -rn \\\n",
    "    | head -25"
   ]
  },
  {
   "cell_type": "code",
   "execution_count": null,
   "metadata": {
    "collapsed": true
   },
   "outputs": [],
   "source": []
  }
 ],
 "metadata": {
  "anaconda-cloud": {},
  "kernelspec": {
   "display_name": "Python [Root]",
   "language": "python",
   "name": "Python [Root]"
  },
  "language_info": {
   "codemirror_mode": {
    "name": "ipython",
    "version": 3
   },
   "file_extension": ".py",
   "mimetype": "text/x-python",
   "name": "python",
   "nbconvert_exporter": "python",
   "pygments_lexer": "ipython3",
   "version": "3.5.2"
  }
 },
 "nbformat": 4,
 "nbformat_minor": 1
}
